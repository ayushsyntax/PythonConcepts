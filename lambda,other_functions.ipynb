{
  "nbformat": 4,
  "nbformat_minor": 0,
  "metadata": {
    "colab": {
      "provenance": [],
      "authorship_tag": "ABX9TyNZ2Ga3+5E7Tf8K6itu0WN0"
    },
    "kernelspec": {
      "name": "python3",
      "display_name": "Python 3"
    },
    "language_info": {
      "name": "python"
    }
  },
  "cells": [
    {
      "cell_type": "code",
      "execution_count": null,
      "metadata": {
        "id": "oMaxvHOpWtLw"
      },
      "outputs": [],
      "source": []
    },
    {
      "cell_type": "markdown",
      "source": [
        "\n",
        "\n",
        "---\n",
        "\n",
        "## 📌 What is a `lambda` function?\n",
        "\n",
        "A **lambda function** is an **anonymous** (nameless) function you define in **one line**.\n",
        "\n",
        "### 🔹 Syntax:\n",
        "```python\n",
        "lambda arguments: expression\n",
        "```\n",
        "\n",
        "---\n",
        "\n",
        "## ✅ Example 1: Basic Use\n",
        "\n",
        "```python\n",
        "add = lambda x, y: x + y\n",
        "print(add(3, 4))  # Output: 7\n",
        "```\n",
        "\n",
        "This is the same as:\n",
        "```python\n",
        "def add(x, y):\n",
        "    return x + y\n",
        "```\n",
        "\n",
        "---\n",
        "\n",
        "## ✅ Example 2: In Machine Learning – Sorting Data\n",
        "\n",
        "```python\n",
        "students = [(\"Ayush\", 90), (\"Ravi\", 85), (\"Riya\", 92)]\n",
        "# Sort by marks\n",
        "sorted_students = sorted(students, key=lambda x: x[1], reverse=True)\n",
        "print(sorted_students)\n",
        "```\n",
        "\n",
        "👉 Used in **data preprocessing** to sort by scores/values.\n",
        "\n",
        "---\n",
        "\n",
        "## ✅ Example 3: With `map()`, `filter()`, and `reduce()`\n",
        "\n",
        "### 🔸 `map()` – apply a function to each item in a list\n",
        "\n",
        "```python\n",
        "nums = [1, 2, 3, 4]\n",
        "squared = list(map(lambda x: x**2, nums))\n",
        "print(squared)  # [1, 4, 9, 16]\n",
        "```\n",
        "\n",
        "### 🔸 `filter()` – filter items based on condition\n",
        "\n",
        "```python\n",
        "even = list(filter(lambda x: x % 2 == 0, nums))\n",
        "print(even)  # [2, 4]\n",
        "```\n",
        "\n",
        "### 🔸 `reduce()` – apply a rolling computation\n",
        "\n",
        "```python\n",
        "from functools import reduce\n",
        "product = reduce(lambda x, y: x * y, nums)\n",
        "print(product)  # 24\n",
        "```\n",
        "\n",
        "---\n",
        "\n",
        "## ✅ Where `lambda` helps in ML\n",
        "\n",
        "| Use Case | Example |\n",
        "|----------|---------|\n",
        "| Feature Engineering | Apply transformation to a column |\n",
        "| Sorting models by accuracy | `sorted(models, key=lambda x: x.accuracy)` |\n",
        "| Custom scoring | `scorer = lambda y_true, y_pred: accuracy_score(...)` |\n",
        "| Row-wise operations in Pandas | `df.apply(lambda row: ..., axis=1)` |\n",
        "\n",
        "---\n",
        "\n",
        "## 💡 Tip:\n",
        "Use `lambda` for **short functions**. For complex logic, go with regular `def` functions.\n",
        "\n",
        "---\n",
        "\n"
      ],
      "metadata": {
        "id": "5TnN5DS_Wt4w"
      }
    },
    {
      "cell_type": "code",
      "source": [],
      "metadata": {
        "id": "acMMQ7u-W0tt"
      },
      "execution_count": null,
      "outputs": []
    },
    {
      "cell_type": "markdown",
      "source": [
        "\n",
        "---\n",
        "\n",
        "## 🔹 1. **Functional Programming Concepts**\n",
        "\n",
        "These go hand-in-hand with `lambda`:\n",
        "\n",
        "| Topic | Why It’s Useful |\n",
        "|-------|------------------|\n",
        "| `map()` | Apply a function to a sequence (e.g., transform dataset) |\n",
        "| `filter()` | Filter elements based on condition |\n",
        "| `reduce()` | Accumulate values (e.g., product, sum) |\n",
        "| `zip()` | Combine multiple lists or arrays |\n",
        "| `enumerate()` | Index + value pairing for loops |\n",
        "\n",
        "---\n",
        "\n",
        "## 🔹 2. **Pandas `apply()` + `lambda` Combo**\n",
        "\n",
        "This is 🔥 in ML for **feature engineering**:\n",
        "\n",
        "```python\n",
        "df['age_group'] = df['age'].apply(lambda x: 'Young' if x < 30 else 'Old')\n",
        "```\n",
        "\n",
        "Related concepts:\n",
        "- `df.apply()`, `df.map()`, `df.applymap()`\n",
        "- `groupby()` + `lambda` for grouped transformations\n",
        "\n",
        "---\n",
        "\n",
        "## 🔹 3. **List Comprehensions vs. Lambda**\n",
        "\n",
        "Both are used for **data transformation**, but:\n",
        "- **List comprehension** is clearer for loops.\n",
        "- **Lambda** shines in one-liners or with `map()`/`filter()`.\n",
        "\n",
        "Example:\n",
        "```python\n",
        "# List comprehension\n",
        "[x**2 for x in range(5)]\n",
        "\n",
        "# Lambda with map\n",
        "list(map(lambda x: x**2, range(5)))\n",
        "```\n",
        "\n",
        "---\n",
        "\n",
        "## 🔹 4. **Custom Functions in ML**\n",
        "\n",
        "| Topic | Use Case |\n",
        "|-------|----------|\n",
        "| `key=lambda` in `sorted()` | Sort models by accuracy, loss, etc. |\n",
        "| `key=lambda` in `max()` | Find best-performing model |\n",
        "| Lambda as scoring function | In `cross_val_score`, `GridSearchCV` |\n",
        "\n",
        "---\n",
        "\n",
        "## 🔹 5. **Decorators (Advanced Lambda Topic)**\n",
        "\n",
        "A decorator is a function that **wraps another function**—lambda can be part of it:\n",
        "\n",
        "```python\n",
        "def decorator(func):\n",
        "    return lambda: print(\"Before\") or func()\n",
        "```\n",
        "\n",
        "---\n",
        "\n"
      ],
      "metadata": {
        "id": "VGlL9XurXIa9"
      }
    },
    {
      "cell_type": "code",
      "source": [
        "import pandas as pd\n",
        "df = pd.DataFrame({'age': [16, 25, 30]})\n",
        "df['type'] = df['age'].apply(lambda x: 'Minor' if x < 18 else 'Adult')\n",
        "print(df)\n"
      ],
      "metadata": {
        "colab": {
          "base_uri": "https://localhost:8080/"
        },
        "id": "NWZOLqYVXNWE",
        "outputId": "4a693d6e-98d2-47f6-9375-cb74f20791d1"
      },
      "execution_count": 1,
      "outputs": [
        {
          "output_type": "stream",
          "name": "stdout",
          "text": [
            "   age   type\n",
            "0   16  Minor\n",
            "1   25  Adult\n",
            "2   30  Adult\n"
          ]
        }
      ]
    }
  ]
}