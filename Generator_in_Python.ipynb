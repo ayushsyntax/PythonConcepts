{
  "nbformat": 4,
  "nbformat_minor": 0,
  "metadata": {
    "colab": {
      "provenance": [],
      "authorship_tag": "ABX9TyNfaztjWn95ku9ftSrejFAo"
    },
    "kernelspec": {
      "name": "python3",
      "display_name": "Python 3"
    },
    "language_info": {
      "name": "python"
    }
  },
  "cells": [
    {
      "cell_type": "markdown",
      "source": [
        "###Generators in Python are a special type of iterator that produce values lazily, meaning they generate data one item at a time when requested, instead of storing everything in memory. This makes them memory-efficient and useful for handling large datasets.\n",
        "\n",
        "Generator Function:\n",
        "\n",
        "Created using the yield keyword.\n",
        "\n",
        "Each time yield is called, the function pauses and returns a value.\n",
        "\n",
        "It resumes from where it left off when called again."
      ],
      "metadata": {
        "id": "fcIZK0wB414l"
      }
    },
    {
      "cell_type": "markdown",
      "source": [
        "🧱 How to Create a Generator\n",
        "You can create a generator using either:\n",
        "\n",
        "Generator Functions (with the yield keyword)\n",
        "\n",
        "Generator Expressions (similar to list comprehensions but with parentheses)\n",
        "\n"
      ],
      "metadata": {
        "id": "4bRqmTY95J1-"
      }
    },
    {
      "cell_type": "code",
      "execution_count": 1,
      "metadata": {
        "colab": {
          "base_uri": "https://localhost:8080/"
        },
        "id": "lQKR52KJ4uG6",
        "outputId": "3be44c4e-5063-4f1b-8241-0630d63d9c51"
      },
      "outputs": [
        {
          "output_type": "stream",
          "name": "stdout",
          "text": [
            "1\n",
            "2\n"
          ]
        }
      ],
      "source": [
        "def my_generator():\n",
        "    yield 1\n",
        "    yield 2\n",
        "    yield 3\n",
        "gen = my_generator()\n",
        "print(next(gen))  # Output: 1\n",
        "print(next(gen))  # Output: 2\n"
      ]
    },
    {
      "cell_type": "markdown",
      "source": [
        "📌 1. Generator Function\n",
        "A generator function looks like a normal function but uses yield instead of return. Each time yield is called, the function’s state is saved, and it resumes from where it left off when called again."
      ],
      "metadata": {
        "id": "cBgVbL5a5EYv"
      }
    },
    {
      "cell_type": "code",
      "source": [
        "def number_generator(n):\n",
        "    for i in range(n):\n",
        "        yield i\n",
        "\n",
        "gen = number_generator(5)\n",
        "for num in gen:\n",
        "    print(num)\n"
      ],
      "metadata": {
        "colab": {
          "base_uri": "https://localhost:8080/"
        },
        "id": "UQROVgE343rs",
        "outputId": "335d874c-88a4-40c0-8445-d00f62c495a9"
      },
      "execution_count": 2,
      "outputs": [
        {
          "output_type": "stream",
          "name": "stdout",
          "text": [
            "0\n",
            "1\n",
            "2\n",
            "3\n",
            "4\n"
          ]
        }
      ]
    },
    {
      "cell_type": "markdown",
      "source": [
        "📌 2. Generator Expression\n",
        "A generator expression is a shorter way to create a generator using parentheses."
      ],
      "metadata": {
        "id": "-7We5iV-5Qr7"
      }
    },
    {
      "cell_type": "code",
      "source": [
        "gen = (x**2 for x in range(5))\n",
        "for num in gen:\n",
        "    print(num)\n"
      ],
      "metadata": {
        "colab": {
          "base_uri": "https://localhost:8080/"
        },
        "id": "4T6eKjqk5BcD",
        "outputId": "6cc99f66-735d-468e-8c48-bc2af72f3a43"
      },
      "execution_count": 3,
      "outputs": [
        {
          "output_type": "stream",
          "name": "stdout",
          "text": [
            "0\n",
            "1\n",
            "4\n",
            "9\n",
            "16\n"
          ]
        }
      ]
    },
    {
      "cell_type": "markdown",
      "source": [
        "📊 Why Use Generators?\n",
        "Memory Efficiency: They don’t store all values at once—great for large datasets.\n",
        "\n",
        "Lazy Evaluation: Values are produced only when needed.\n",
        "\n",
        "Simplified Code: Cleaner syntax for complex loops."
      ],
      "metadata": {
        "id": "bbyr-nmE5T1J"
      }
    },
    {
      "cell_type": "markdown",
      "source": [
        "##Benefits of Generators in Machine Learning\n",
        "Memory Efficient: Load data on-demand—ideal for large datasets.\n",
        "\n",
        "Faster Training: Stream data in batches without preloading.\n",
        "\n",
        "Infinite Data: Handle live data streams (e.g., IoT, stock prices).\n",
        "\n",
        "Data Augmentation: Generate new samples during training.\n",
        "\n",
        "Custom Pipelines: Process complex data formats flexibly."
      ],
      "metadata": {
        "id": "Bxinh8Ge5khk"
      }
    },
    {
      "cell_type": "code",
      "source": [
        "def data_gen(data):\n",
        "    for sample in data:\n",
        "        yield sample\n",
        "\n",
        "gen = data_gen([1, 2, 3])\n",
        "print(next(gen))  # Output: 1\n"
      ],
      "metadata": {
        "colab": {
          "base_uri": "https://localhost:8080/"
        },
        "id": "J5Hq3scg5M2d",
        "outputId": "ba036cf9-0a2f-4f66-9bba-05c354084623"
      },
      "execution_count": 4,
      "outputs": [
        {
          "output_type": "stream",
          "name": "stdout",
          "text": [
            "1\n"
          ]
        }
      ]
    },
    {
      "cell_type": "code",
      "source": [
        "print(next(gen))"
      ],
      "metadata": {
        "colab": {
          "base_uri": "https://localhost:8080/"
        },
        "id": "r5Zj6gYW5ojq",
        "outputId": "61ce7211-787f-4a58-fe61-c47196d6bb66"
      },
      "execution_count": 5,
      "outputs": [
        {
          "output_type": "stream",
          "name": "stdout",
          "text": [
            "2\n"
          ]
        }
      ]
    },
    {
      "cell_type": "code",
      "source": [],
      "metadata": {
        "id": "jIJBpQGT5s0V"
      },
      "execution_count": null,
      "outputs": []
    }
  ]
}