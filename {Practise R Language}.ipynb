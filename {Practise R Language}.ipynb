{
  "nbformat": 4,
  "nbformat_minor": 0,
  "metadata": {
    "colab": {
      "provenance": [],
      "authorship_tag": "ABX9TyNgIRRPm4IMSM8i6n55l0qf"
    },
    "kernelspec": {
      "name": "ir",
      "display_name": "R"
    },
    "language_info": {
      "name": "R"
    }
  },
  "cells": [
    {
      "cell_type": "code",
      "execution_count": null,
      "metadata": {
        "id": "d4UXt7u2Uu7S"
      },
      "outputs": [],
      "source": [
        "df <- data.frame(Name = c(\"Alice\", \"Bob\"), Age = c(25, 30))\n",
        "write.csv(df, \"people.csv\", row.names = FALSE)"
      ]
    },
    {
      "cell_type": "code",
      "source": [
        "read.csv(\"people.csv\")"
      ],
      "metadata": {
        "colab": {
          "base_uri": "https://localhost:8080/",
          "height": 178
        },
        "id": "yr1j2wC-U0pJ",
        "outputId": "787fa435-2b80-4c09-950b-77a47be4ce04"
      },
      "execution_count": null,
      "outputs": [
        {
          "output_type": "display_data",
          "data": {
            "text/html": [
              "<table class=\"dataframe\">\n",
              "<caption>A data.frame: 2 × 2</caption>\n",
              "<thead>\n",
              "\t<tr><th scope=col>Name</th><th scope=col>Age</th></tr>\n",
              "\t<tr><th scope=col>&lt;chr&gt;</th><th scope=col>&lt;int&gt;</th></tr>\n",
              "</thead>\n",
              "<tbody>\n",
              "\t<tr><td>Alice</td><td>25</td></tr>\n",
              "\t<tr><td>Bob  </td><td>30</td></tr>\n",
              "</tbody>\n",
              "</table>\n"
            ],
            "text/markdown": "\nA data.frame: 2 × 2\n\n| Name &lt;chr&gt; | Age &lt;int&gt; |\n|---|---|\n| Alice | 25 |\n| Bob   | 30 |\n\n",
            "text/latex": "A data.frame: 2 × 2\n\\begin{tabular}{ll}\n Name & Age\\\\\n <chr> & <int>\\\\\n\\hline\n\t Alice & 25\\\\\n\t Bob   & 30\\\\\n\\end{tabular}\n",
            "text/plain": [
              "  Name  Age\n",
              "1 Alice 25 \n",
              "2 Bob   30 "
            ]
          },
          "metadata": {}
        }
      ]
    },
    {
      "cell_type": "code",
      "source": [
        "data <- read.csv(\"data.csv\")\n",
        "library(readr)\n",
        "data <- read_csv(\"data.csv\")"
      ],
      "metadata": {
        "colab": {
          "base_uri": "https://localhost:8080/",
          "height": 315
        },
        "id": "IUrlRQ7iU6_c",
        "outputId": "70fd7510-4da5-4ec2-f714-737eae4522db"
      },
      "execution_count": null,
      "outputs": [
        {
          "output_type": "stream",
          "name": "stderr",
          "text": [
            "Warning message in file(file, \"rt\"):\n",
            "“cannot open file 'data.csv': No such file or directory”\n"
          ]
        },
        {
          "output_type": "error",
          "ename": "ERROR",
          "evalue": "Error in file(file, \"rt\"): cannot open the connection\n",
          "traceback": [
            "Error in file(file, \"rt\"): cannot open the connection\nTraceback:\n",
            "1. read.table(file = file, header = header, sep = sep, quote = quote, \n .     dec = dec, fill = fill, comment.char = comment.char, ...)",
            "2. file(file, \"rt\")",
            "3. .handleSimpleError(function (cnd) \n . {\n .     watcher$capture_plot_and_output()\n .     cnd <- sanitize_call(cnd)\n .     watcher$push(cnd)\n .     switch(on_error, continue = invokeRestart(\"eval_continue\"), \n .         stop = invokeRestart(\"eval_stop\"), error = NULL)\n . }, \"cannot open the connection\", base::quote(file(file, \"rt\")))"
          ]
        }
      ]
    },
    {
      "cell_type": "code",
      "source": [
        "X= 2\n",
        "typeof(X)\n",
        "class(X)\n",
        "is.numeric(X)"
      ],
      "metadata": {
        "colab": {
          "base_uri": "https://localhost:8080/",
          "height": 69
        },
        "id": "_ncGvtusVeGU",
        "outputId": "da5631ed-a84b-4a6a-c308-2d0884c6ab8f"
      },
      "execution_count": null,
      "outputs": [
        {
          "output_type": "display_data",
          "data": {
            "text/html": [
              "'double'"
            ],
            "text/markdown": "'double'",
            "text/latex": "'double'",
            "text/plain": [
              "[1] \"double\""
            ]
          },
          "metadata": {}
        },
        {
          "output_type": "display_data",
          "data": {
            "text/html": [
              "'numeric'"
            ],
            "text/markdown": "'numeric'",
            "text/latex": "'numeric'",
            "text/plain": [
              "[1] \"numeric\""
            ]
          },
          "metadata": {}
        },
        {
          "output_type": "display_data",
          "data": {
            "text/html": [
              "TRUE"
            ],
            "text/markdown": "TRUE",
            "text/latex": "TRUE",
            "text/plain": [
              "[1] TRUE"
            ]
          },
          "metadata": {}
        }
      ]
    },
    {
      "cell_type": "code",
      "source": [
        "7 -> x\n",
        "print(x)"
      ],
      "metadata": {
        "colab": {
          "base_uri": "https://localhost:8080/"
        },
        "id": "iuYJHL8VWOYg",
        "outputId": "ff88d758-3d63-4b8e-de14-51b11f6360f7"
      },
      "execution_count": null,
      "outputs": [
        {
          "output_type": "stream",
          "name": "stdout",
          "text": [
            "[1] 7\n"
          ]
        }
      ]
    },
    {
      "cell_type": "code",
      "source": [
        "x = 9\n",
        "print(x)"
      ],
      "metadata": {
        "colab": {
          "base_uri": "https://localhost:8080/"
        },
        "id": "0xrPFduUW6t_",
        "outputId": "19e34578-1696-4fcb-d97a-c4b8d6dce4c5"
      },
      "execution_count": null,
      "outputs": [
        {
          "output_type": "stream",
          "name": "stdout",
          "text": [
            "[1] 9\n"
          ]
        }
      ]
    },
    {
      "cell_type": "code",
      "source": [
        "x <- 78\n",
        "print(x)"
      ],
      "metadata": {
        "colab": {
          "base_uri": "https://localhost:8080/"
        },
        "id": "7laVr_dtXEtq",
        "outputId": "bc4c6fa2-0e44-44a5-f530-dbf2b4036db0"
      },
      "execution_count": null,
      "outputs": [
        {
          "output_type": "stream",
          "name": "stdout",
          "text": [
            "[1] 78\n"
          ]
        }
      ]
    },
    {
      "cell_type": "code",
      "source": [
        "add <- function(a, b) {\n",
        "  return(a + b)\n",
        "}\n",
        "result <- add(3, 4)"
      ],
      "metadata": {
        "id": "XF-n2_kbXKQA"
      },
      "execution_count": null,
      "outputs": []
    },
    {
      "cell_type": "code",
      "source": [
        "result"
      ],
      "metadata": {
        "colab": {
          "base_uri": "https://localhost:8080/",
          "height": 34
        },
        "id": "Gb2SYusFXu1y",
        "outputId": "c6340b1c-3f92-4541-bc32-87e8d8fe8e30"
      },
      "execution_count": null,
      "outputs": [
        {
          "output_type": "display_data",
          "data": {
            "text/html": [
              "7"
            ],
            "text/markdown": "7",
            "text/latex": "7",
            "text/plain": [
              "[1] 7"
            ]
          },
          "metadata": {}
        }
      ]
    },
    {
      "cell_type": "code",
      "source": [
        "vec <- c(1, 2, 3)\n",
        "letters <- c(\"a\", \"b\", \"c\")"
      ],
      "metadata": {
        "id": "Z9u4kl0GXysq"
      },
      "execution_count": null,
      "outputs": []
    },
    {
      "cell_type": "code",
      "source": [
        "vec + 2\n",
        "vec * vec"
      ],
      "metadata": {
        "colab": {
          "base_uri": "https://localhost:8080/",
          "height": 52
        },
        "id": "hM02lKZ2ZA1C",
        "outputId": "738b312a-fbf9-41c7-fe2d-60d1c742e6a2"
      },
      "execution_count": null,
      "outputs": [
        {
          "output_type": "display_data",
          "data": {
            "text/html": [
              "<style>\n",
              ".list-inline {list-style: none; margin:0; padding: 0}\n",
              ".list-inline>li {display: inline-block}\n",
              ".list-inline>li:not(:last-child)::after {content: \"\\00b7\"; padding: 0 .5ex}\n",
              "</style>\n",
              "<ol class=list-inline><li>3</li><li>4</li><li>5</li></ol>\n"
            ],
            "text/markdown": "1. 3\n2. 4\n3. 5\n\n\n",
            "text/latex": "\\begin{enumerate*}\n\\item 3\n\\item 4\n\\item 5\n\\end{enumerate*}\n",
            "text/plain": [
              "[1] 3 4 5"
            ]
          },
          "metadata": {}
        },
        {
          "output_type": "display_data",
          "data": {
            "text/html": [
              "<style>\n",
              ".list-inline {list-style: none; margin:0; padding: 0}\n",
              ".list-inline>li {display: inline-block}\n",
              ".list-inline>li:not(:last-child)::after {content: \"\\00b7\"; padding: 0 .5ex}\n",
              "</style>\n",
              "<ol class=list-inline><li>1</li><li>4</li><li>9</li></ol>\n"
            ],
            "text/markdown": "1. 1\n2. 4\n3. 9\n\n\n",
            "text/latex": "\\begin{enumerate*}\n\\item 1\n\\item 4\n\\item 9\n\\end{enumerate*}\n",
            "text/plain": [
              "[1] 1 4 9"
            ]
          },
          "metadata": {}
        }
      ]
    },
    {
      "cell_type": "code",
      "source": [
        "df <- data.frame(\n",
        "  Name = c(\"Alice\", \"Bob\"),\n",
        "  Age = c(25, 30)\n",
        ")"
      ],
      "metadata": {
        "id": "hLsrgd4lZxGH"
      },
      "execution_count": null,
      "outputs": []
    },
    {
      "cell_type": "code",
      "source": [
        "df"
      ],
      "metadata": {
        "colab": {
          "base_uri": "https://localhost:8080/",
          "height": 178
        },
        "id": "FJEjyYhyaMJi",
        "outputId": "540a6a7e-a84f-4084-e9d1-8938e26595cc"
      },
      "execution_count": null,
      "outputs": [
        {
          "output_type": "display_data",
          "data": {
            "text/html": [
              "<table class=\"dataframe\">\n",
              "<caption>A data.frame: 2 × 2</caption>\n",
              "<thead>\n",
              "\t<tr><th scope=col>Name</th><th scope=col>Age</th></tr>\n",
              "\t<tr><th scope=col>&lt;chr&gt;</th><th scope=col>&lt;dbl&gt;</th></tr>\n",
              "</thead>\n",
              "<tbody>\n",
              "\t<tr><td>Alice</td><td>25</td></tr>\n",
              "\t<tr><td>Bob  </td><td>30</td></tr>\n",
              "</tbody>\n",
              "</table>\n"
            ],
            "text/markdown": "\nA data.frame: 2 × 2\n\n| Name &lt;chr&gt; | Age &lt;dbl&gt; |\n|---|---|\n| Alice | 25 |\n| Bob   | 30 |\n\n",
            "text/latex": "A data.frame: 2 × 2\n\\begin{tabular}{ll}\n Name & Age\\\\\n <chr> & <dbl>\\\\\n\\hline\n\t Alice & 25\\\\\n\t Bob   & 30\\\\\n\\end{tabular}\n",
            "text/plain": [
              "  Name  Age\n",
              "1 Alice 25 \n",
              "2 Bob   30 "
            ]
          },
          "metadata": {}
        }
      ]
    },
    {
      "cell_type": "code",
      "source": [
        "print(df$Name)\n",
        "print(df[1, 2])\n",
        "print(df[df$Age > 25, ])"
      ],
      "metadata": {
        "colab": {
          "base_uri": "https://localhost:8080/"
        },
        "id": "JXUZyhKQZCrS",
        "outputId": "f0815acd-b744-4faa-efcd-250447cf5e32"
      },
      "execution_count": null,
      "outputs": [
        {
          "output_type": "stream",
          "name": "stdout",
          "text": [
            "[1] \"Alice\" \"Bob\"  \n",
            "[1] 25\n",
            "  Name Age\n",
            "2  Bob  30\n"
          ]
        }
      ]
    },
    {
      "cell_type": "code",
      "source": [
        "gender <- factor(c(\"Male\", \"Female\", \"Male\"))\n",
        "print(levels(gender))\n"
      ],
      "metadata": {
        "colab": {
          "base_uri": "https://localhost:8080/"
        },
        "id": "c9gPk9DpZrz-",
        "outputId": "f6c506ac-535e-4957-f3c4-6a5131987eed"
      },
      "execution_count": null,
      "outputs": [
        {
          "output_type": "stream",
          "name": "stdout",
          "text": [
            "[1] \"Female\" \"Male\"  \n"
          ]
        }
      ]
    },
    {
      "cell_type": "code",
      "source": [
        "x <- c(1, NA, 3)\n",
        "mean(x, na.rm = TRUE)"
      ],
      "metadata": {
        "colab": {
          "base_uri": "https://localhost:8080/",
          "height": 34
        },
        "id": "EPAoI0cAdwd4",
        "outputId": "211fb1de-67fd-4904-da82-334aab1247b4"
      },
      "execution_count": null,
      "outputs": [
        {
          "output_type": "display_data",
          "data": {
            "text/html": [
              "2"
            ],
            "text/markdown": "2",
            "text/latex": "2",
            "text/plain": [
              "[1] 2"
            ]
          },
          "metadata": {}
        }
      ]
    },
    {
      "cell_type": "code",
      "source": [
        "my_list <- list(name = \"John\", age = 30, grades = c(85, 90, 78))\n",
        "print(my_list$name)         # Access by name\n",
        "print(my_list[[3]])         # Access by position"
      ],
      "metadata": {
        "id": "VIG8DoKTeekV",
        "colab": {
          "base_uri": "https://localhost:8080/"
        },
        "outputId": "9b04a2bf-c98f-4271-90a7-694a821c17bb"
      },
      "execution_count": 1,
      "outputs": [
        {
          "output_type": "stream",
          "name": "stdout",
          "text": [
            "[1] \"John\"\n",
            "[1] 85 90 78\n"
          ]
        }
      ]
    },
    {
      "cell_type": "code",
      "source": [
        "vec1 <- c(1, 2, 3)\n",
        "vec2 <- c(\"a\", \"b\", \"c\")\n",
        "combined <- c(vec1, vec2)             # Concatenate\n",
        "df <- data.frame(vec1, vec2)         # As columns"
      ],
      "metadata": {
        "id": "oAKT57hUm29H"
      },
      "execution_count": 2,
      "outputs": []
    },
    {
      "cell_type": "code",
      "source": [
        "df"
      ],
      "metadata": {
        "colab": {
          "base_uri": "https://localhost:8080/",
          "height": 209
        },
        "id": "UU4ZmLv6n4n-",
        "outputId": "c4dfc635-a241-4a74-e743-d52098f382ac"
      },
      "execution_count": 3,
      "outputs": [
        {
          "output_type": "display_data",
          "data": {
            "text/html": [
              "<table class=\"dataframe\">\n",
              "<caption>A data.frame: 3 × 2</caption>\n",
              "<thead>\n",
              "\t<tr><th scope=col>vec1</th><th scope=col>vec2</th></tr>\n",
              "\t<tr><th scope=col>&lt;dbl&gt;</th><th scope=col>&lt;chr&gt;</th></tr>\n",
              "</thead>\n",
              "<tbody>\n",
              "\t<tr><td>1</td><td>a</td></tr>\n",
              "\t<tr><td>2</td><td>b</td></tr>\n",
              "\t<tr><td>3</td><td>c</td></tr>\n",
              "</tbody>\n",
              "</table>\n"
            ],
            "text/markdown": "\nA data.frame: 3 × 2\n\n| vec1 &lt;dbl&gt; | vec2 &lt;chr&gt; |\n|---|---|\n| 1 | a |\n| 2 | b |\n| 3 | c |\n\n",
            "text/latex": "A data.frame: 3 × 2\n\\begin{tabular}{ll}\n vec1 & vec2\\\\\n <dbl> & <chr>\\\\\n\\hline\n\t 1 & a\\\\\n\t 2 & b\\\\\n\t 3 & c\\\\\n\\end{tabular}\n",
            "text/plain": [
              "  vec1 vec2\n",
              "1 1    a   \n",
              "2 2    b   \n",
              "3 3    c   "
            ]
          },
          "metadata": {}
        }
      ]
    },
    {
      "cell_type": "code",
      "source": [
        "dist_matrix <- dist(df)\n",
        "hc <- hclust(dist_matrix)\n",
        "plot(hc)"
      ],
      "metadata": {
        "colab": {
          "base_uri": "https://localhost:8080/",
          "height": 472
        },
        "id": "htqSurHCn6gN",
        "outputId": "4fc6dd40-89b0-4723-cf06-4695321a03de"
      },
      "execution_count": 4,
      "outputs": [
        {
          "output_type": "stream",
          "name": "stderr",
          "text": [
            "Warning message in dist(df):\n",
            "“NAs introduced by coercion”\n"
          ]
        },
        {
          "output_type": "display_data",
          "data": {
            "text/plain": [
              "Plot with title “Cluster Dendrogram”"
            ],
            "image/png": "[encoded data removed]"
          },
          "metadata": {
            "image/png": {
              "width": 420,
              "height": 420
            }
          }
        }
      ]
    },
    {
      "cell_type": "code",
      "source": [
        "# Bar chart\n",
        "barplot(c(2, 4, 6), names.arg = c(\"A\", \"B\", \"C\"))\n",
        "\n",
        "# Dot plot\n",
        "dotchart(c(2, 4, 6), labels = c(\"A\", \"B\", \"C\"))"
      ],
      "metadata": {
        "colab": {
          "base_uri": "https://localhost:8080/",
          "height": 857
        },
        "id": "MobjFfFeovVs",
        "outputId": "4953ea6b-05b6-4b15-f9ae-a5f892fa9e10"
      },
      "execution_count": 6,
      "outputs": [
        {
          "output_type": "display_data",
          "data": {
            "text/plain": [
              "plot without title"
            ],
            "image/png": "[encoded data removed]"
          },
          "metadata": {
            "image/png": {
              "width": 420,
              "height": 420
            }
          }
        },
        {
          "output_type": "display_data",
          "data": {
            "text/plain": [
              "plot without title"
            ],
            "image/png": "[encoded data removed]"
          },
          "metadata": {
            "image/png": {
              "width": 420,
              "height": 420
            }
          }
        }
      ]
    },
    {
      "cell_type": "code",
      "source": [
        "plot(x = 1:10, y = rnorm(10), type = \"l\", col = \"blue\")\n",
        "points(x = 1:10, y = rnorm(10), col = \"red\")"
      ],
      "metadata": {
        "colab": {
          "base_uri": "https://localhost:8080/",
          "height": 437
        },
        "id": "Vz9lnDh3pG6l",
        "outputId": "548d47a9-14fb-4d6b-e083-aebf65056ddb"
      },
      "execution_count": 7,
      "outputs": [
        {
          "output_type": "display_data",
          "data": {
            "text/plain": [
              "plot without title"
            ],
            "image/png": "[encoded data removed]"
          },
          "metadata": {
            "image/png": {
              "width": 420,
              "height": 420
            }
          }
        }
      ]
    },
    {
      "cell_type": "code",
      "source": [
        "my_data <- data.frame(\n",
        "  id = 1:5,\n",
        "  name = c(\"Alice\", \"Bob\", \"Charlie\", \"Diana\", \"Ethan\"),\n",
        "  age = c(24, 27, 22, 30, 25),\n",
        "  gender = c(\"F\", \"M\", \"M\", \"F\", \"M\"),\n",
        "  score = c(85, 92, 78, 88, 90)\n",
        ")"
      ],
      "metadata": {
        "id": "YdH-FXmZpdgY"
      },
      "execution_count": 8,
      "outputs": []
    },
    {
      "cell_type": "code",
      "source": [
        "str(my_data)        # Structure of data\n",
        "summary(my_data)    # Summary statistics\n",
        "head(my_data)       # First few rows"
      ],
      "metadata": {
        "colab": {
          "base_uri": "https://localhost:8080/",
          "height": 602
        },
        "id": "UsWMrUHvq0lr",
        "outputId": "509b6f3e-67f6-466b-8fb8-934651993c28"
      },
      "execution_count": 9,
      "outputs": [
        {
          "output_type": "stream",
          "name": "stdout",
          "text": [
            "'data.frame':\t5 obs. of  5 variables:\n",
            " $ id    : int  1 2 3 4 5\n",
            " $ name  : chr  \"Alice\" \"Bob\" \"Charlie\" \"Diana\" ...\n",
            " $ age   : num  24 27 22 30 25\n",
            " $ gender: chr  \"F\" \"M\" \"M\" \"F\" ...\n",
            " $ score : num  85 92 78 88 90\n"
          ]
        },
        {
          "output_type": "display_data",
          "data": {
            "text/plain": [
              "       id        name                age          gender         \n",
              " Min.   :1   Length:5           Min.   :22.0   Length:5          \n",
              " 1st Qu.:2   Class :character   1st Qu.:24.0   Class :character  \n",
              " Median :3   Mode  :character   Median :25.0   Mode  :character  \n",
              " Mean   :3                      Mean   :25.6                     \n",
              " 3rd Qu.:4                      3rd Qu.:27.0                     \n",
              " Max.   :5                      Max.   :30.0                     \n",
              "     score     \n",
              " Min.   :78.0  \n",
              " 1st Qu.:85.0  \n",
              " Median :88.0  \n",
              " Mean   :86.6  \n",
              " 3rd Qu.:90.0  \n",
              " Max.   :92.0  "
            ]
          },
          "metadata": {}
        },
        {
          "output_type": "display_data",
          "data": {
            "text/html": [
              "<table class=\"dataframe\">\n",
              "<caption>A data.frame: 5 × 5</caption>\n",
              "<thead>\n",
              "\t<tr><th></th><th scope=col>id</th><th scope=col>name</th><th scope=col>age</th><th scope=col>gender</th><th scope=col>score</th></tr>\n",
              "\t<tr><th></th><th scope=col>&lt;int&gt;</th><th scope=col>&lt;chr&gt;</th><th scope=col>&lt;dbl&gt;</th><th scope=col>&lt;chr&gt;</th><th scope=col>&lt;dbl&gt;</th></tr>\n",
              "</thead>\n",
              "<tbody>\n",
              "\t<tr><th scope=row>1</th><td>1</td><td>Alice  </td><td>24</td><td>F</td><td>85</td></tr>\n",
              "\t<tr><th scope=row>2</th><td>2</td><td>Bob    </td><td>27</td><td>M</td><td>92</td></tr>\n",
              "\t<tr><th scope=row>3</th><td>3</td><td>Charlie</td><td>22</td><td>M</td><td>78</td></tr>\n",
              "\t<tr><th scope=row>4</th><td>4</td><td>Diana  </td><td>30</td><td>F</td><td>88</td></tr>\n",
              "\t<tr><th scope=row>5</th><td>5</td><td>Ethan  </td><td>25</td><td>M</td><td>90</td></tr>\n",
              "</tbody>\n",
              "</table>\n"
            ],
            "text/markdown": "\nA data.frame: 5 × 5\n\n| <!--/--> | id &lt;int&gt; | name &lt;chr&gt; | age &lt;dbl&gt; | gender &lt;chr&gt; | score &lt;dbl&gt; |\n|---|---|---|---|---|---|\n| 1 | 1 | Alice   | 24 | F | 85 |\n| 2 | 2 | Bob     | 27 | M | 92 |\n| 3 | 3 | Charlie | 22 | M | 78 |\n| 4 | 4 | Diana   | 30 | F | 88 |\n| 5 | 5 | Ethan   | 25 | M | 90 |\n\n",
            "text/latex": "A data.frame: 5 × 5\n\\begin{tabular}{r|lllll}\n  & id & name & age & gender & score\\\\\n  & <int> & <chr> & <dbl> & <chr> & <dbl>\\\\\n\\hline\n\t1 & 1 & Alice   & 24 & F & 85\\\\\n\t2 & 2 & Bob     & 27 & M & 92\\\\\n\t3 & 3 & Charlie & 22 & M & 78\\\\\n\t4 & 4 & Diana   & 30 & F & 88\\\\\n\t5 & 5 & Ethan   & 25 & M & 90\\\\\n\\end{tabular}\n",
            "text/plain": [
              "  id name    age gender score\n",
              "1 1  Alice   24  F      85   \n",
              "2 2  Bob     27  M      92   \n",
              "3 3  Charlie 22  M      78   \n",
              "4 4  Diana   30  F      88   \n",
              "5 5  Ethan   25  M      90   "
            ]
          },
          "metadata": {}
        }
      ]
    },
    {
      "cell_type": "code",
      "source": [
        "print(head(my_data))"
      ],
      "metadata": {
        "colab": {
          "base_uri": "https://localhost:8080/"
        },
        "id": "Y6KhiSZeq2q5",
        "outputId": "d122c897-d8c6-41fe-ba6e-609d80d0cf00"
      },
      "execution_count": 12,
      "outputs": [
        {
          "output_type": "stream",
          "name": "stdout",
          "text": [
            "  id    name age gender score\n",
            "1  1   Alice  24      F    85\n",
            "2  2     Bob  27      M    92\n",
            "3  3 Charlie  22      M    78\n",
            "4  4   Diana  30      F    88\n",
            "5  5   Ethan  25      M    90\n"
          ]
        }
      ]
    },
    {
      "cell_type": "code",
      "source": [
        "set.seed(123)  # For reproducibility\n",
        "\n",
        "my_data <- data.frame(\n",
        "  id = 1:50,\n",
        "  name = paste0(\"Student_\", 1:50),\n",
        "  gender = sample(c(\"Male\", \"Female\"), 50, replace = TRUE),\n",
        "  age = sample(18:30, 50, replace = TRUE),\n",
        "  department = sample(c(\"Math\", \"Science\", \"Arts\", \"Commerce\"), 50, replace = TRUE),\n",
        "  score_math = round(runif(50, min = 40, max = 100)),\n",
        "  score_science = round(runif(50, min = 40, max = 100)),\n",
        "  passed = sample(c(\"Yes\", \"No\"), 50, replace = TRUE)\n",
        ")\n",
        "\n",
        "head(my_data,7)"
      ],
      "metadata": {
        "colab": {
          "base_uri": "https://localhost:8080/",
          "height": 317
        },
        "id": "Vv3HEtW5rBEq",
        "outputId": "c29a4e48-7680-4909-9605-02124a0ff248"
      },
      "execution_count": 14,
      "outputs": [
        {
          "output_type": "display_data",
          "data": {
            "text/html": [
              "<table class=\"dataframe\">\n",
              "<caption>A data.frame: 7 × 8</caption>\n",
              "<thead>\n",
              "\t<tr><th></th><th scope=col>id</th><th scope=col>name</th><th scope=col>gender</th><th scope=col>age</th><th scope=col>department</th><th scope=col>score_math</th><th scope=col>score_science</th><th scope=col>passed</th></tr>\n",
              "\t<tr><th></th><th scope=col>&lt;int&gt;</th><th scope=col>&lt;chr&gt;</th><th scope=col>&lt;chr&gt;</th><th scope=col>&lt;int&gt;</th><th scope=col>&lt;chr&gt;</th><th scope=col>&lt;dbl&gt;</th><th scope=col>&lt;dbl&gt;</th><th scope=col>&lt;chr&gt;</th></tr>\n",
              "</thead>\n",
              "<tbody>\n",
              "\t<tr><th scope=row>1</th><td>1</td><td>Student_1</td><td>Male  </td><td>29</td><td>Science </td><td>72</td><td>82</td><td>Yes</td></tr>\n",
              "\t<tr><th scope=row>2</th><td>2</td><td>Student_2</td><td>Male  </td><td>22</td><td>Science </td><td>84</td><td>61</td><td>No </td></tr>\n",
              "\t<tr><th scope=row>3</th><td>3</td><td>Student_3</td><td>Male  </td><td>24</td><td>Commerce</td><td>53</td><td>65</td><td>Yes</td></tr>\n",
              "\t<tr><th scope=row>4</th><td>4</td><td>Student_4</td><td>Female</td><td>22</td><td>Arts    </td><td>65</td><td>89</td><td>Yes</td></tr>\n",
              "\t<tr><th scope=row>5</th><td>5</td><td>Student_5</td><td>Male  </td><td>28</td><td>Science </td><td>56</td><td>95</td><td>Yes</td></tr>\n",
              "\t<tr><th scope=row>6</th><td>6</td><td>Student_6</td><td>Female</td><td>23</td><td>Math    </td><td>78</td><td>57</td><td>Yes</td></tr>\n",
              "\t<tr><th scope=row>7</th><td>7</td><td>Student_7</td><td>Female</td><td>26</td><td>Commerce</td><td>51</td><td>98</td><td>Yes</td></tr>\n",
              "</tbody>\n",
              "</table>\n"
            ],
            "text/markdown": "\nA data.frame: 7 × 8\n\n| <!--/--> | id &lt;int&gt; | name &lt;chr&gt; | gender &lt;chr&gt; | age &lt;int&gt; | department &lt;chr&gt; | score_math &lt;dbl&gt; | score_science &lt;dbl&gt; | passed &lt;chr&gt; |\n|---|---|---|---|---|---|---|---|---|\n| 1 | 1 | Student_1 | Male   | 29 | Science  | 72 | 82 | Yes |\n| 2 | 2 | Student_2 | Male   | 22 | Science  | 84 | 61 | No  |\n| 3 | 3 | Student_3 | Male   | 24 | Commerce | 53 | 65 | Yes |\n| 4 | 4 | Student_4 | Female | 22 | Arts     | 65 | 89 | Yes |\n| 5 | 5 | Student_5 | Male   | 28 | Science  | 56 | 95 | Yes |\n| 6 | 6 | Student_6 | Female | 23 | Math     | 78 | 57 | Yes |\n| 7 | 7 | Student_7 | Female | 26 | Commerce | 51 | 98 | Yes |\n\n",
            "text/latex": "A data.frame: 7 × 8\n\\begin{tabular}{r|llllllll}\n  & id & name & gender & age & department & score\\_math & score\\_science & passed\\\\\n  & <int> & <chr> & <chr> & <int> & <chr> & <dbl> & <dbl> & <chr>\\\\\n\\hline\n\t1 & 1 & Student\\_1 & Male   & 29 & Science  & 72 & 82 & Yes\\\\\n\t2 & 2 & Student\\_2 & Male   & 22 & Science  & 84 & 61 & No \\\\\n\t3 & 3 & Student\\_3 & Male   & 24 & Commerce & 53 & 65 & Yes\\\\\n\t4 & 4 & Student\\_4 & Female & 22 & Arts     & 65 & 89 & Yes\\\\\n\t5 & 5 & Student\\_5 & Male   & 28 & Science  & 56 & 95 & Yes\\\\\n\t6 & 6 & Student\\_6 & Female & 23 & Math     & 78 & 57 & Yes\\\\\n\t7 & 7 & Student\\_7 & Female & 26 & Commerce & 51 & 98 & Yes\\\\\n\\end{tabular}\n",
            "text/plain": [
              "  id name      gender age department score_math score_science passed\n",
              "1 1  Student_1 Male   29  Science    72         82            Yes   \n",
              "2 2  Student_2 Male   22  Science    84         61            No    \n",
              "3 3  Student_3 Male   24  Commerce   53         65            Yes   \n",
              "4 4  Student_4 Female 22  Arts       65         89            Yes   \n",
              "5 5  Student_5 Male   28  Science    56         95            Yes   \n",
              "6 6  Student_6 Female 23  Math       78         57            Yes   \n",
              "7 7  Student_7 Female 26  Commerce   51         98            Yes   "
            ]
          },
          "metadata": {}
        }
      ]
    },
    {
      "cell_type": "code",
      "source": [
        "library(dplyr)\n",
        "df <- data.frame(name = c(\"Alice\", \"Bob\", \"Charlie\"), age = c(25, 30, 22), gender = c(\"F\", \"M\", \"M\"))\n",
        "\n",
        "# Filter for females older than 24\n",
        "filtered_data <- filter(df, gender == \"F\", age > 24)\n",
        "print(filtered_data)"
      ],
      "metadata": {
        "colab": {
          "base_uri": "https://localhost:8080/"
        },
        "id": "IsSvfadmrVNj",
        "outputId": "ec4b480a-1448-4dda-f427-16e9cda5c99a"
      },
      "execution_count": 1,
      "outputs": [
        {
          "output_type": "stream",
          "name": "stderr",
          "text": [
            "\n",
            "Attaching package: ‘dplyr’\n",
            "\n",
            "\n",
            "The following objects are masked from ‘package:stats’:\n",
            "\n",
            "    filter, lag\n",
            "\n",
            "\n",
            "The following objects are masked from ‘package:base’:\n",
            "\n",
            "    intersect, setdiff, setequal, union\n",
            "\n",
            "\n"
          ]
        },
        {
          "output_type": "stream",
          "name": "stdout",
          "text": [
            "   name age gender\n",
            "1 Alice  25      F\n"
          ]
        }
      ]
    },
    {
      "cell_type": "code",
      "source": [
        "df <- data.frame(a = c(10, 20, 30), b = c(2, 5, 6))\n",
        "df <- mutate(df, ratio = a / b)\n",
        "print(df)"
      ],
      "metadata": {
        "colab": {
          "base_uri": "https://localhost:8080/"
        },
        "id": "8LbsX8u9b78B",
        "outputId": "95f7814b-de2b-4b3c-df13-b2bed3a5670c"
      },
      "execution_count": 2,
      "outputs": [
        {
          "output_type": "stream",
          "name": "stdout",
          "text": [
            "   a b ratio\n",
            "1 10 2     5\n",
            "2 20 5     4\n",
            "3 30 6     5\n"
          ]
        }
      ]
    },
    {
      "cell_type": "code",
      "source": [
        "mutate(df, ratio = a / b)"
      ],
      "metadata": {
        "colab": {
          "base_uri": "https://localhost:8080/",
          "height": 192
        },
        "id": "jCCt7fpocWzN",
        "outputId": "0ac08de7-f8fb-4559-e3b8-98b9de9caceb"
      },
      "execution_count": 3,
      "outputs": [
        {
          "output_type": "display_data",
          "data": {
            "text/html": [
              "<table class=\"dataframe\">\n",
              "<caption>A data.frame: 3 × 3</caption>\n",
              "<thead>\n",
              "\t<tr><th scope=col>a</th><th scope=col>b</th><th scope=col>ratio</th></tr>\n",
              "\t<tr><th scope=col>&lt;dbl&gt;</th><th scope=col>&lt;dbl&gt;</th><th scope=col>&lt;dbl&gt;</th></tr>\n",
              "</thead>\n",
              "<tbody>\n",
              "\t<tr><td>10</td><td>2</td><td>5</td></tr>\n",
              "\t<tr><td>20</td><td>5</td><td>4</td></tr>\n",
              "\t<tr><td>30</td><td>6</td><td>5</td></tr>\n",
              "</tbody>\n",
              "</table>\n"
            ],
            "text/markdown": "\nA data.frame: 3 × 3\n\n| a &lt;dbl&gt; | b &lt;dbl&gt; | ratio &lt;dbl&gt; |\n|---|---|---|\n| 10 | 2 | 5 |\n| 20 | 5 | 4 |\n| 30 | 6 | 5 |\n\n",
            "text/latex": "A data.frame: 3 × 3\n\\begin{tabular}{lll}\n a & b & ratio\\\\\n <dbl> & <dbl> & <dbl>\\\\\n\\hline\n\t 10 & 2 & 5\\\\\n\t 20 & 5 & 4\\\\\n\t 30 & 6 & 5\\\\\n\\end{tabular}\n",
            "text/plain": [
              "  a  b ratio\n",
              "1 10 2 5    \n",
              "2 20 5 4    \n",
              "3 30 6 5    "
            ]
          },
          "metadata": {}
        }
      ]
    },
    {
      "cell_type": "code",
      "source": [
        "df <- data.frame(id = 1:3, score = c(80, 90, 85))\n",
        "\n",
        "# Select only 'score'\n",
        "selected <- select(df, score)\n",
        "\n",
        "# Rename 'score' to 'marks'\n",
        "renamed <- rename(df, marks = score)"
      ],
      "metadata": {
        "id": "iH0YrhqccciJ"
      },
      "execution_count": 4,
      "outputs": []
    },
    {
      "cell_type": "code",
      "source": [
        "select(df, score)"
      ],
      "metadata": {
        "colab": {
          "base_uri": "https://localhost:8080/",
          "height": 227
        },
        "id": "Nl8qokXgcjnE",
        "outputId": "241ee3c5-6cb6-482e-c98e-ff9ac171eed2"
      },
      "execution_count": 5,
      "outputs": [
        {
          "output_type": "display_data",
          "data": {
            "text/html": [
              "<table class=\"dataframe\">\n",
              "<caption>A data.frame: 3 × 1</caption>\n",
              "<thead>\n",
              "\t<tr><th scope=col>score</th></tr>\n",
              "\t<tr><th scope=col>&lt;dbl&gt;</th></tr>\n",
              "</thead>\n",
              "<tbody>\n",
              "\t<tr><td>80</td></tr>\n",
              "\t<tr><td>90</td></tr>\n",
              "\t<tr><td>85</td></tr>\n",
              "</tbody>\n",
              "</table>\n"
            ],
            "text/markdown": "\nA data.frame: 3 × 1\n\n| score &lt;dbl&gt; |\n|---|\n| 80 |\n| 90 |\n| 85 |\n\n",
            "text/latex": "A data.frame: 3 × 1\n\\begin{tabular}{l}\n score\\\\\n <dbl>\\\\\n\\hline\n\t 80\\\\\n\t 90\\\\\n\t 85\\\\\n\\end{tabular}\n",
            "text/plain": [
              "  score\n",
              "1 80   \n",
              "2 90   \n",
              "3 85   "
            ]
          },
          "metadata": {}
        }
      ]
    },
    {
      "cell_type": "code",
      "source": [
        "rename(df, marks = score)"
      ],
      "metadata": {
        "colab": {
          "base_uri": "https://localhost:8080/",
          "height": 209
        },
        "id": "ZNudbIasclX0",
        "outputId": "fc02aadc-5008-4a67-b0f8-47e3d206d0e5"
      },
      "execution_count": 6,
      "outputs": [
        {
          "output_type": "display_data",
          "data": {
            "text/html": [
              "<table class=\"dataframe\">\n",
              "<caption>A data.frame: 3 × 2</caption>\n",
              "<thead>\n",
              "\t<tr><th scope=col>id</th><th scope=col>marks</th></tr>\n",
              "\t<tr><th scope=col>&lt;int&gt;</th><th scope=col>&lt;dbl&gt;</th></tr>\n",
              "</thead>\n",
              "<tbody>\n",
              "\t<tr><td>1</td><td>80</td></tr>\n",
              "\t<tr><td>2</td><td>90</td></tr>\n",
              "\t<tr><td>3</td><td>85</td></tr>\n",
              "</tbody>\n",
              "</table>\n"
            ],
            "text/markdown": "\nA data.frame: 3 × 2\n\n| id &lt;int&gt; | marks &lt;dbl&gt; |\n|---|---|\n| 1 | 80 |\n| 2 | 90 |\n| 3 | 85 |\n\n",
            "text/latex": "A data.frame: 3 × 2\n\\begin{tabular}{ll}\n id & marks\\\\\n <int> & <dbl>\\\\\n\\hline\n\t 1 & 80\\\\\n\t 2 & 90\\\\\n\t 3 & 85\\\\\n\\end{tabular}\n",
            "text/plain": [
              "  id marks\n",
              "1 1  80   \n",
              "2 2  90   \n",
              "3 3  85   "
            ]
          },
          "metadata": {}
        }
      ]
    },
    {
      "cell_type": "code",
      "source": [
        "my_list <- list(\n",
        "  vec = c(1, 2, 3),\n",
        "  mat = matrix(1:4, nrow = 2),\n",
        "  sub_list = list(name = \"John\", age = 30)\n",
        ")\n",
        "print(my_list$sub_list$age)"
      ],
      "metadata": {
        "colab": {
          "base_uri": "https://localhost:8080/"
        },
        "id": "WE2bp8Sicntx",
        "outputId": "582da1ec-9b15-42e3-fe6b-ad5019cbdb65"
      },
      "execution_count": 7,
      "outputs": [
        {
          "output_type": "stream",
          "name": "stdout",
          "text": [
            "[1] 30\n"
          ]
        }
      ]
    },
    {
      "cell_type": "code",
      "source": [
        "print(my_list)"
      ],
      "metadata": {
        "colab": {
          "base_uri": "https://localhost:8080/"
        },
        "id": "xfc4oRkzc6jq",
        "outputId": "adacf48e-0cb2-42e5-bce6-e0a761923e90"
      },
      "execution_count": 9,
      "outputs": [
        {
          "output_type": "stream",
          "name": "stdout",
          "text": [
            "$vec\n",
            "[1] 1 2 3\n",
            "\n",
            "$mat\n",
            "     [,1] [,2]\n",
            "[1,]    1    3\n",
            "[2,]    2    4\n",
            "\n",
            "$sub_list\n",
            "$sub_list$name\n",
            "[1] \"John\"\n",
            "\n",
            "$sub_list$age\n",
            "[1] 30\n",
            "\n",
            "\n"
          ]
        }
      ]
    },
    {
      "cell_type": "code",
      "source": [
        "list(name = \"John\", age = 30)"
      ],
      "metadata": {
        "colab": {
          "base_uri": "https://localhost:8080/",
          "height": 114
        },
        "id": "8TnJA6ICc9Ih",
        "outputId": "103c4e89-cea6-427b-84b1-8e43eeb708f5"
      },
      "execution_count": 10,
      "outputs": [
        {
          "output_type": "display_data",
          "data": {
            "text/html": [
              "<dl>\n",
              "\t<dt>$name</dt>\n",
              "\t\t<dd>'John'</dd>\n",
              "\t<dt>$age</dt>\n",
              "\t\t<dd>30</dd>\n",
              "</dl>\n"
            ],
            "text/markdown": "$name\n:   'John'\n$age\n:   30\n\n\n",
            "text/latex": "\\begin{description}\n\\item[\\$name] 'John'\n\\item[\\$age] 30\n\\end{description}\n",
            "text/plain": [
              "$name\n",
              "[1] \"John\"\n",
              "\n",
              "$age\n",
              "[1] 30\n"
            ]
          },
          "metadata": {}
        }
      ]
    },
    {
      "cell_type": "code",
      "source": [
        "lst <- list(a = 1, b = 2, c = 3)\n",
        "print(lst[1])     # Returns list with $a\n",
        "print(lst[[1]])   # Returns value 1"
      ],
      "metadata": {
        "colab": {
          "base_uri": "https://localhost:8080/"
        },
        "id": "t1YO6Ur0dPy6",
        "outputId": "eb9ff4e3-b390-425c-8a4e-4d9f18dc2f2b"
      },
      "execution_count": 11,
      "outputs": [
        {
          "output_type": "stream",
          "name": "stdout",
          "text": [
            "$a\n",
            "[1] 1\n",
            "\n",
            "[1] 1\n"
          ]
        }
      ]
    },
    {
      "cell_type": "code",
      "source": [
        "lst <- list(name = \"Alice\", age = 25)\n",
        "lst$new_element <- TRUE\n",
        "lst$name <- NULL\n",
        "print(lst)"
      ],
      "metadata": {
        "colab": {
          "base_uri": "https://localhost:8080/"
        },
        "id": "NOxEckuUdZIc",
        "outputId": "1ffd7d9c-3e1d-442c-fd2a-0e6c9291973b"
      },
      "execution_count": 12,
      "outputs": [
        {
          "output_type": "stream",
          "name": "stdout",
          "text": [
            "$age\n",
            "[1] 25\n",
            "\n",
            "$new_element\n",
            "[1] TRUE\n",
            "\n"
          ]
        }
      ]
    },
    {
      "cell_type": "code",
      "source": [
        "students <- list(\n",
        "  list(name = \"Alice\", age = 20, subjects = c(\"Math\", \"English\")),\n",
        "  list(name = \"Bob\", age = 22, subjects = c(\"History\", \"Science\"))\n",
        ")\n",
        "print(students[[1]]$subjects)"
      ],
      "metadata": {
        "colab": {
          "base_uri": "https://localhost:8080/"
        },
        "id": "qhsxSU20dikR",
        "outputId": "1d170a6c-3ed2-41d8-9956-2938b7a42695"
      },
      "execution_count": 18,
      "outputs": [
        {
          "output_type": "stream",
          "name": "stdout",
          "text": [
            "[1] \"Math\"    \"English\"\n"
          ]
        }
      ]
    },
    {
      "cell_type": "code",
      "source": [
        "library(tidyr)\n",
        "df_wide <- data.frame(id = 1:2, math = c(80, 90), eng = c(85, 95))\n",
        "df_long <- pivot_longer(df_wide, cols = c(math, eng), names_to = \"subject\", values_to = \"score\")\n",
        "print(df_long)"
      ],
      "metadata": {
        "colab": {
          "base_uri": "https://localhost:8080/"
        },
        "id": "N9cTG60Nd3Hs",
        "outputId": "e8f14d06-1858-457d-9a14-39412b6e6e3d"
      },
      "execution_count": 19,
      "outputs": [
        {
          "output_type": "stream",
          "name": "stdout",
          "text": [
            "\u001b[90m# A tibble: 4 × 3\u001b[39m\n",
            "     id subject score\n",
            "  \u001b[3m\u001b[90m<int>\u001b[39m\u001b[23m \u001b[3m\u001b[90m<chr>\u001b[39m\u001b[23m   \u001b[3m\u001b[90m<dbl>\u001b[39m\u001b[23m\n",
            "\u001b[90m1\u001b[39m     1 math       80\n",
            "\u001b[90m2\u001b[39m     1 eng        85\n",
            "\u001b[90m3\u001b[39m     2 math       90\n",
            "\u001b[90m4\u001b[39m     2 eng        95\n"
          ]
        }
      ]
    },
    {
      "cell_type": "code",
      "source": [
        "vec <- c(1, NA, 3)\n",
        "vec[is.na(vec)] <- 0  # Replace NA with 0\n",
        "df <- na.omit(data.frame(x = c(1, NA), y = c(NA, 2)))"
      ],
      "metadata": {
        "id": "JC-KV4l2eU9b"
      },
      "execution_count": 20,
      "outputs": []
    },
    {
      "cell_type": "code",
      "source": [
        "df"
      ],
      "metadata": {
        "colab": {
          "base_uri": "https://localhost:8080/",
          "height": 115
        },
        "id": "JK3A6EADer8g",
        "outputId": "e02b3632-c6e9-4da9-dce6-47cabc7c30f5"
      },
      "execution_count": 21,
      "outputs": [
        {
          "output_type": "display_data",
          "data": {
            "text/html": [
              "<table class=\"dataframe\">\n",
              "<caption>A data.frame: 0 × 2</caption>\n",
              "<thead>\n",
              "\t<tr><th scope=col>x</th><th scope=col>y</th></tr>\n",
              "\t<tr><th scope=col>&lt;dbl&gt;</th><th scope=col>&lt;dbl&gt;</th></tr>\n",
              "</thead>\n",
              "<tbody>\n",
              "</tbody>\n",
              "</table>\n"
            ],
            "text/markdown": "\nA data.frame: 0 × 2\n\n| x &lt;dbl&gt; | y &lt;dbl&gt; |\n|---|---|\n\n",
            "text/latex": "A data.frame: 0 × 2\n\\begin{tabular}{ll}\n x & y\\\\\n <dbl> & <dbl>\\\\\n\\hline\n\\end{tabular}\n",
            "text/plain": [
              "     x y"
            ]
          },
          "metadata": {}
        }
      ]
    },
    {
      "cell_type": "code",
      "source": [
        "df1 <- data.frame(name = c(\"A\", \"B\"), score = c(80, 90))\n",
        "df2 <- data.frame(name = c(\"C\", \"D\"), score = c(75, 85))\n",
        "combined <- bind_rows(df1, df2)\n",
        "print(combined)"
      ],
      "metadata": {
        "colab": {
          "base_uri": "https://localhost:8080/"
        },
        "id": "Q2jNoL7-es9t",
        "outputId": "c0646301-a4eb-42db-d584-c95fe118011e"
      },
      "execution_count": 22,
      "outputs": [
        {
          "output_type": "stream",
          "name": "stdout",
          "text": [
            "  name score\n",
            "1    A    80\n",
            "2    B    90\n",
            "3    C    75\n",
            "4    D    85\n"
          ]
        }
      ]
    },
    {
      "cell_type": "code",
      "source": [
        "vec1 <- c(1, 2, 3)\n",
        "vec2 <- c(4, 5, 6)\n",
        "combined <- append(vec1, vec2)\n",
        "print(combined)"
      ],
      "metadata": {
        "colab": {
          "base_uri": "https://localhost:8080/"
        },
        "id": "dptEAhU6fPAd",
        "outputId": "f43d4e06-d207-4f6b-84c7-89ee60fbab2c"
      },
      "execution_count": 23,
      "outputs": [
        {
          "output_type": "stream",
          "name": "stdout",
          "text": [
            "[1] 1 2 3 4 5 6\n"
          ]
        }
      ]
    },
    {
      "cell_type": "code",
      "source": [
        "# Sample data\n",
        "study_data <- data.frame(\n",
        "  hours = c(2, 3, 4, 5, 6),\n",
        "  pass = factor(c(0, 0, 1, 1, 1))  # 0 = Fail, 1 = Pass\n",
        ")\n",
        "\n",
        "# Fit logistic regression\n",
        "model <- glm(pass ~ hours, data = study_data, family = binomial)\n",
        "summary(model)"
      ],
      "metadata": {
        "colab": {
          "base_uri": "https://localhost:8080/",
          "height": 329
        },
        "id": "w-g19Eh-gYII",
        "outputId": "3ff7b6c9-5a57-48d1-f02d-65e23d777e84"
      },
      "execution_count": 24,
      "outputs": [
        {
          "output_type": "stream",
          "name": "stderr",
          "text": [
            "Warning message:\n",
            "“glm.fit: fitted probabilities numerically 0 or 1 occurred”\n"
          ]
        },
        {
          "output_type": "display_data",
          "data": {
            "text/plain": [
              "\n",
              "Call:\n",
              "glm(formula = pass ~ hours, family = binomial, data = study_data)\n",
              "\n",
              "Coefficients:\n",
              "             Estimate Std. Error z value Pr(>|z|)\n",
              "(Intercept)   -161.00  301789.24  -0.001        1\n",
              "hours           45.97   84264.77   0.001        1\n",
              "\n",
              "(Dispersion parameter for binomial family taken to be 1)\n",
              "\n",
              "    Null deviance: 6.7301e+00  on 4  degrees of freedom\n",
              "Residual deviance: 4.1812e-10  on 3  degrees of freedom\n",
              "AIC: 4\n",
              "\n",
              "Number of Fisher Scoring iterations: 24\n"
            ]
          },
          "metadata": {}
        }
      ]
    },
    {
      "cell_type": "code",
      "source": [
        "predicted_prob <- predict(model, type = \"response\")\n",
        "predicted_class <- ifelse(predicted_prob > 0.5, 1, 0)\n",
        "print(data.frame(predicted_prob, predicted_class))"
      ],
      "metadata": {
        "colab": {
          "base_uri": "https://localhost:8080/"
        },
        "id": "-oU56DYWgvKH",
        "outputId": "8301980a-a122-4422-844b-132c6133c8bf"
      },
      "execution_count": 25,
      "outputs": [
        {
          "output_type": "stream",
          "name": "stdout",
          "text": [
            "  predicted_prob predicted_class\n",
            "1   2.220446e-16               0\n",
            "2   9.477297e-11               0\n",
            "3   1.000000e+00               1\n",
            "4   1.000000e+00               1\n",
            "5   1.000000e+00               1\n"
          ]
        }
      ]
    },
    {
      "cell_type": "code",
      "source": [
        "library(pROC)\n",
        "roc_obj <- roc(study_data$pass, predicted_prob)\n",
        "plot(roc_obj, main = \"ROC Curve\", col = \"blue\")\n",
        "auc(roc_obj)  # Print AUC value"
      ],
      "metadata": {
        "colab": {
          "base_uri": "https://localhost:8080/",
          "height": 106
        },
        "id": "kZs2SELthaYg",
        "outputId": "901a6c18-9eae-409d-b17d-82d4eeefe953"
      },
      "execution_count": 26,
      "outputs": [
        {
          "output_type": "error",
          "ename": "ERROR",
          "evalue": "Error in library(pROC): there is no package called ‘pROC’\n",
          "traceback": [
            "Error in library(pROC): there is no package called ‘pROC’\nTraceback:\n",
            "1. stop(packageNotFoundError(package, lib.loc, sys.call()))"
          ]
        }
      ]
    },
    {
      "cell_type": "code",
      "source": [
        "data <- matrix(rnorm(30), ncol = 3)\n",
        "dist_matrix <- dist(data)\n",
        "hc <- hclust(dist_matrix)\n",
        "plot(hc, main = \"Dendrogram\", xlab = \"\", sub = \"\")"
      ],
      "metadata": {
        "colab": {
          "base_uri": "https://localhost:8080/",
          "height": 437
        },
        "id": "OlawS_zwhebf",
        "outputId": "725a28ab-6f16-40a4-b0af-1ecb4fca8a49"
      },
      "execution_count": 27,
      "outputs": [
        {
          "output_type": "display_data",
          "data": {
            "text/plain": [
              "Plot with title “Dendrogram”"
            ],
            "image/png": "[encoded data removed]"
          },
          "metadata": {
            "image/png": {
              "width": 420,
              "height": 420
            }
          }
        }
      ]
    },
    {
      "cell_type": "code",
      "source": [
        "clusters <- cutree(hc, k = 3)\n",
        "print(clusters)"
      ],
      "metadata": {
        "colab": {
          "base_uri": "https://localhost:8080/"
        },
        "id": "UVqv6J7zh0Eo",
        "outputId": "2589c9e6-131c-4355-8224-e337dd0e5b09"
      },
      "execution_count": 28,
      "outputs": [
        {
          "output_type": "stream",
          "name": "stdout",
          "text": [
            " [1] 1 1 2 1 1 2 1 1 1 3\n"
          ]
        }
      ]
    },
    {
      "cell_type": "code",
      "source": [
        "plot(data, col = clusters, pch = 16, main = \"Cluster Visualization\")"
      ],
      "metadata": {
        "colab": {
          "base_uri": "https://localhost:8080/",
          "height": 437
        },
        "id": "eoqWt53Yh9zP",
        "outputId": "f7aec573-0f08-4308-c129-f4d42168f810"
      },
      "execution_count": 29,
      "outputs": [
        {
          "output_type": "display_data",
          "data": {
            "text/plain": [
              "Plot with title “Cluster Visualization”"
            ],
            "image/png": "[encoded data removed]"
          },
          "metadata": {
            "image/png": {
              "width": 420,
              "height": 420
            }
          }
        }
      ]
    },
    {
      "cell_type": "code",
      "source": [
        "pca_result <- prcomp(data, scale = TRUE)\n",
        "summary(pca_result)"
      ],
      "metadata": {
        "colab": {
          "base_uri": "https://localhost:8080/",
          "height": 104
        },
        "id": "59EZbxxTiSU6",
        "outputId": "4278231c-b4c5-4072-a60e-dde10599ca83"
      },
      "execution_count": 30,
      "outputs": [
        {
          "output_type": "display_data",
          "data": {
            "text/plain": [
              "Importance of components:\n",
              "                          PC1    PC2    PC3\n",
              "Standard deviation     1.2378 1.0092 0.6704\n",
              "Proportion of Variance 0.5107 0.3395 0.1498\n",
              "Cumulative Proportion  0.5107 0.8502 1.0000"
            ]
          },
          "metadata": {}
        }
      ]
    },
    {
      "cell_type": "code",
      "source": [
        "plot(pca_result$x[, 1:2], col = clusters, pch = 16, main = \"PCA Plot\")"
      ],
      "metadata": {
        "colab": {
          "base_uri": "https://localhost:8080/",
          "height": 437
        },
        "id": "6ZOT3bvDifwf",
        "outputId": "f8514d50-5b85-49f9-f77d-b7d5efd0df60"
      },
      "execution_count": 31,
      "outputs": [
        {
          "output_type": "display_data",
          "data": {
            "text/plain": [
              "Plot with title “PCA Plot”"
            ],
            "image/png": "[encoded data removed]"
          },
          "metadata": {
            "image/png": {
              "width": 420,
              "height": 420
            }
          }
        }
      ]
    },
    {
      "cell_type": "code",
      "source": [
        "df <- data.frame(\n",
        "  name = c(\"Alice\", \"Bob\"),\n",
        "  age = c(25, 30),\n",
        "  stringsAsFactors = FALSE\n",
        ")"
      ],
      "metadata": {
        "id": "aQKenWkcimw_"
      },
      "execution_count": 32,
      "outputs": []
    },
    {
      "cell_type": "code",
      "source": [
        "df"
      ],
      "metadata": {
        "colab": {
          "base_uri": "https://localhost:8080/",
          "height": 178
        },
        "id": "mNW1o5aHjmfr",
        "outputId": "afb58eed-5be2-43e5-ebf3-8d3ad02d14b6"
      },
      "execution_count": 33,
      "outputs": [
        {
          "output_type": "display_data",
          "data": {
            "text/html": [
              "<table class=\"dataframe\">\n",
              "<caption>A data.frame: 2 × 2</caption>\n",
              "<thead>\n",
              "\t<tr><th scope=col>name</th><th scope=col>age</th></tr>\n",
              "\t<tr><th scope=col>&lt;chr&gt;</th><th scope=col>&lt;dbl&gt;</th></tr>\n",
              "</thead>\n",
              "<tbody>\n",
              "\t<tr><td>Alice</td><td>25</td></tr>\n",
              "\t<tr><td>Bob  </td><td>30</td></tr>\n",
              "</tbody>\n",
              "</table>\n"
            ],
            "text/markdown": "\nA data.frame: 2 × 2\n\n| name &lt;chr&gt; | age &lt;dbl&gt; |\n|---|---|\n| Alice | 25 |\n| Bob   | 30 |\n\n",
            "text/latex": "A data.frame: 2 × 2\n\\begin{tabular}{ll}\n name & age\\\\\n <chr> & <dbl>\\\\\n\\hline\n\t Alice & 25\\\\\n\t Bob   & 30\\\\\n\\end{tabular}\n",
            "text/plain": [
              "  name  age\n",
              "1 Alice 25 \n",
              "2 Bob   30 "
            ]
          },
          "metadata": {}
        }
      ]
    },
    {
      "cell_type": "code",
      "source": [
        "df$name\n",
        "df[[\"age\"]]"
      ],
      "metadata": {
        "colab": {
          "base_uri": "https://localhost:8080/",
          "height": 52
        },
        "id": "0F6I6yE5jnaP",
        "outputId": "9715fc5b-d849-437f-db3f-a1ecd47d1319"
      },
      "execution_count": 34,
      "outputs": [
        {
          "output_type": "display_data",
          "data": {
            "text/html": [
              "<style>\n",
              ".list-inline {list-style: none; margin:0; padding: 0}\n",
              ".list-inline>li {display: inline-block}\n",
              ".list-inline>li:not(:last-child)::after {content: \"\\00b7\"; padding: 0 .5ex}\n",
              "</style>\n",
              "<ol class=list-inline><li>'Alice'</li><li>'Bob'</li></ol>\n"
            ],
            "text/markdown": "1. 'Alice'\n2. 'Bob'\n\n\n",
            "text/latex": "\\begin{enumerate*}\n\\item 'Alice'\n\\item 'Bob'\n\\end{enumerate*}\n",
            "text/plain": [
              "[1] \"Alice\" \"Bob\"  "
            ]
          },
          "metadata": {}
        },
        {
          "output_type": "display_data",
          "data": {
            "text/html": [
              "<style>\n",
              ".list-inline {list-style: none; margin:0; padding: 0}\n",
              ".list-inline>li {display: inline-block}\n",
              ".list-inline>li:not(:last-child)::after {content: \"\\00b7\"; padding: 0 .5ex}\n",
              "</style>\n",
              "<ol class=list-inline><li>25</li><li>30</li></ol>\n"
            ],
            "text/markdown": "1. 25\n2. 30\n\n\n",
            "text/latex": "\\begin{enumerate*}\n\\item 25\n\\item 30\n\\end{enumerate*}\n",
            "text/plain": [
              "[1] 25 30"
            ]
          },
          "metadata": {}
        }
      ]
    },
    {
      "cell_type": "code",
      "source": [
        "gender <- factor(c(\"Male\", \"Female\", \"Male\"))\n",
        "levels(gender)  # See categories"
      ],
      "metadata": {
        "colab": {
          "base_uri": "https://localhost:8080/",
          "height": 34
        },
        "id": "hNEkoNPUjsdm",
        "outputId": "a2d10239-961f-43db-d420-016c73a84b43"
      },
      "execution_count": 41,
      "outputs": [
        {
          "output_type": "display_data",
          "data": {
            "text/html": [
              "<style>\n",
              ".list-inline {list-style: none; margin:0; padding: 0}\n",
              ".list-inline>li {display: inline-block}\n",
              ".list-inline>li:not(:last-child)::after {content: \"\\00b7\"; padding: 0 .5ex}\n",
              "</style>\n",
              "<ol class=list-inline><li>'Female'</li><li>'Male'</li></ol>\n"
            ],
            "text/markdown": "1. 'Female'\n2. 'Male'\n\n\n",
            "text/latex": "\\begin{enumerate*}\n\\item 'Female'\n\\item 'Male'\n\\end{enumerate*}\n",
            "text/plain": [
              "[1] \"Female\" \"Male\"  "
            ]
          },
          "metadata": {}
        }
      ]
    },
    {
      "cell_type": "code",
      "source": [
        "num_vec <- c(3, 1, 2)\n",
        "sorted_num <- sort(num_vec)\n",
        "\n",
        "char_vec <- c(\"Zoe\", \"Anna\", \"Ben\")\n",
        "sorted_char <- sort(char_vec)\n",
        "\n",
        "factor_vec <- factor(c(\"Low\", \"High\", \"Medium\"))\n",
        "sorted_factor <- sort(factor_vec,desc=TRUE)"
      ],
      "metadata": {
        "id": "3Ak5UIIwj-ur"
      },
      "execution_count": 47,
      "outputs": []
    },
    {
      "cell_type": "code",
      "source": [
        "sorted_factor"
      ],
      "metadata": {
        "colab": {
          "base_uri": "https://localhost:8080/",
          "height": 52
        },
        "id": "FFhgd4VlkIia",
        "outputId": "d031d35b-6a45-4d5e-ad96-9ef6d00876c1"
      },
      "execution_count": 44,
      "outputs": [
        {
          "output_type": "display_data",
          "data": {
            "text/html": [
              "<style>\n",
              ".list-inline {list-style: none; margin:0; padding: 0}\n",
              ".list-inline>li {display: inline-block}\n",
              ".list-inline>li:not(:last-child)::after {content: \"\\00b7\"; padding: 0 .5ex}\n",
              "</style>\n",
              "<ol class=list-inline><li>High</li><li>Low</li><li>Medium</li></ol>\n",
              "\n",
              "<details>\n",
              "\t<summary style=display:list-item;cursor:pointer>\n",
              "\t\t<strong>Levels</strong>:\n",
              "\t</summary>\n",
              "\t<style>\n",
              "\t.list-inline {list-style: none; margin:0; padding: 0}\n",
              "\t.list-inline>li {display: inline-block}\n",
              "\t.list-inline>li:not(:last-child)::after {content: \"\\00b7\"; padding: 0 .5ex}\n",
              "\t</style>\n",
              "\t<ol class=list-inline><li>'High'</li><li>'Low'</li><li>'Medium'</li></ol>\n",
              "</details>"
            ],
            "text/markdown": "1. High\n2. Low\n3. Medium\n\n\n\n**Levels**: 1. 'High'\n2. 'Low'\n3. 'Medium'\n\n\n",
            "text/latex": "\\begin{enumerate*}\n\\item High\n\\item Low\n\\item Medium\n\\end{enumerate*}\n\n\\emph{Levels}: \\begin{enumerate*}\n\\item 'High'\n\\item 'Low'\n\\item 'Medium'\n\\end{enumerate*}\n",
            "text/plain": [
              "[1] High   Low    Medium\n",
              "Levels: High Low Medium"
            ]
          },
          "metadata": {}
        }
      ]
    },
    {
      "cell_type": "code",
      "source": [
        "is.na(x)\n",
        "complete.cases(df)"
      ],
      "metadata": {
        "colab": {
          "base_uri": "https://localhost:8080/",
          "height": 72
        },
        "id": "GGCxaDSgkQKQ",
        "outputId": "e016b3e7-b4f0-4d9f-e72f-8697c0ee47f0"
      },
      "execution_count": 48,
      "outputs": [
        {
          "output_type": "error",
          "ename": "ERROR",
          "evalue": "Error: object 'x' not found\n",
          "traceback": [
            "Error: object 'x' not found\nTraceback:\n"
          ]
        }
      ]
    },
    {
      "cell_type": "code",
      "source": [
        "sum(is.na(df))           # Count NAs\n",
        "na.omit(df)              # Remove rows with NA\n",
        "df[is.na(df)] <- 0      # Replace NA with 0\n"
      ],
      "metadata": {
        "colab": {
          "base_uri": "https://localhost:8080/",
          "height": 178
        },
        "id": "_k0KUafekfoa",
        "outputId": "b23651c1-8a6f-4ea5-9013-ccb5d14a7fd8"
      },
      "execution_count": 49,
      "outputs": [
        {
          "output_type": "display_data",
          "data": {
            "text/html": [
              "0"
            ],
            "text/markdown": "0",
            "text/latex": "0",
            "text/plain": [
              "[1] 0"
            ]
          },
          "metadata": {}
        },
        {
          "output_type": "display_data",
          "data": {
            "text/html": [
              "<table class=\"dataframe\">\n",
              "<caption>A data.frame: 2 × 2</caption>\n",
              "<thead>\n",
              "\t<tr><th></th><th scope=col>name</th><th scope=col>age</th></tr>\n",
              "\t<tr><th></th><th scope=col>&lt;chr&gt;</th><th scope=col>&lt;dbl&gt;</th></tr>\n",
              "</thead>\n",
              "<tbody>\n",
              "\t<tr><th scope=row>1</th><td>Alice</td><td>25</td></tr>\n",
              "\t<tr><th scope=row>2</th><td>Bob  </td><td>30</td></tr>\n",
              "</tbody>\n",
              "</table>\n"
            ],
            "text/markdown": "\nA data.frame: 2 × 2\n\n| <!--/--> | name &lt;chr&gt; | age &lt;dbl&gt; |\n|---|---|---|\n| 1 | Alice | 25 |\n| 2 | Bob   | 30 |\n\n",
            "text/latex": "A data.frame: 2 × 2\n\\begin{tabular}{r|ll}\n  & name & age\\\\\n  & <chr> & <dbl>\\\\\n\\hline\n\t1 & Alice & 25\\\\\n\t2 & Bob   & 30\\\\\n\\end{tabular}\n",
            "text/plain": [
              "  name  age\n",
              "1 Alice 25 \n",
              "2 Bob   30 "
            ]
          },
          "metadata": {}
        }
      ]
    },
    {
      "cell_type": "code",
      "source": [
        "df$col[is.na(df$col)] <- mean(df$col, na.rm = TRUE)"
      ],
      "metadata": {
        "colab": {
          "base_uri": "https://localhost:8080/",
          "height": 332
        },
        "id": "z9cQMg0Xkmkw",
        "outputId": "49935732-7c98-4211-e4e0-57dda61ed932"
      },
      "execution_count": 50,
      "outputs": [
        {
          "output_type": "stream",
          "name": "stderr",
          "text": [
            "Warning message in mean.default(df$col, na.rm = TRUE):\n",
            "“argument is not numeric or logical: returning NA”\n"
          ]
        },
        {
          "output_type": "error",
          "ename": "ERROR",
          "evalue": "Error in `$<-.data.frame`(`*tmp*`, col, value = numeric(0)): replacement has 0 rows, data has 2\n",
          "traceback": [
            "Error in `$<-.data.frame`(`*tmp*`, col, value = numeric(0)): replacement has 0 rows, data has 2\nTraceback:\n",
            "1. `$<-.data.frame`(`*tmp*`, col, value = numeric(0))",
            "2. stop(sprintf(ngettext(N, \"replacement has %d row, data has %d\", \n .     \"replacement has %d rows, data has %d\"), N, nrows), domain = NA)",
            "3. .handleSimpleError(function (cnd) \n . {\n .     watcher$capture_plot_and_output()\n .     cnd <- sanitize_call(cnd)\n .     watcher$push(cnd)\n .     switch(on_error, continue = invokeRestart(\"eval_continue\"), \n .         stop = invokeRestart(\"eval_stop\"), error = NULL)\n . }, \"replacement has 0 rows, data has 2\", base::quote(`$<-.data.frame`(`*tmp*`, \n .     col, value = numeric(0))))"
          ]
        }
      ]
    },
    {
      "cell_type": "code",
      "source": [
        "subset_df <- df[df$age > 25, ]\n"
      ],
      "metadata": {
        "id": "TCO1RzfDkrS-"
      },
      "execution_count": 51,
      "outputs": []
    },
    {
      "cell_type": "code",
      "source": [
        "subset_df"
      ],
      "metadata": {
        "colab": {
          "base_uri": "https://localhost:8080/",
          "height": 129
        },
        "id": "8jVoIKxAkvqd",
        "outputId": "21459179-77c2-4ba7-d0fe-f3598c28df95"
      },
      "execution_count": 52,
      "outputs": [
        {
          "output_type": "display_data",
          "data": {
            "text/html": [
              "<table class=\"dataframe\">\n",
              "<caption>A data.frame: 1 × 2</caption>\n",
              "<thead>\n",
              "\t<tr><th></th><th scope=col>name</th><th scope=col>age</th></tr>\n",
              "\t<tr><th></th><th scope=col>&lt;chr&gt;</th><th scope=col>&lt;dbl&gt;</th></tr>\n",
              "</thead>\n",
              "<tbody>\n",
              "\t<tr><th scope=row>2</th><td>Bob</td><td>30</td></tr>\n",
              "</tbody>\n",
              "</table>\n"
            ],
            "text/markdown": "\nA data.frame: 1 × 2\n\n| <!--/--> | name &lt;chr&gt; | age &lt;dbl&gt; |\n|---|---|---|\n| 2 | Bob | 30 |\n\n",
            "text/latex": "A data.frame: 1 × 2\n\\begin{tabular}{r|ll}\n  & name & age\\\\\n  & <chr> & <dbl>\\\\\n\\hline\n\t2 & Bob & 30\\\\\n\\end{tabular}\n",
            "text/plain": [
              "  name age\n",
              "2 Bob  30 "
            ]
          },
          "metadata": {}
        }
      ]
    },
    {
      "cell_type": "code",
      "source": [
        "filtered_df <- filter(df, age > 25)\n",
        "selected_df <- select(df, name, age)"
      ],
      "metadata": {
        "id": "y2U8-KbhkxR0"
      },
      "execution_count": 53,
      "outputs": []
    },
    {
      "cell_type": "code",
      "source": [
        "#na.rm stands for \"NA remove\" . It is a logical argument (i.e., TRUE or FALSE) used in many summary functions to indicate whether NA (missing) values should be removed before computation.\n",
        "\n",
        "#If na.rm = TRUE: Ignore missing values\n",
        "#If na.rm = FALSE (default): Return NA if any value is missing\n"
      ],
      "metadata": {
        "id": "wET1FiQukzxP"
      },
      "execution_count": 54,
      "outputs": []
    },
    {
      "cell_type": "markdown",
      "source": [
        "\n",
        "\n",
        "---\n",
        "\n",
        "# 🧪 **EDA Functions in R – Complete Syntax & Examples**\n",
        "\n",
        "## 🔍 What is EDA?\n",
        "Exploratory Data Analysis (EDA) is the process of summarizing and visualizing the main characteristics of a dataset to understand its structure, detect patterns, identify anomalies, and test hypotheses.\n",
        "\n",
        "---\n",
        "\n",
        "## 📦 1. **Basic Structure Inspection**\n",
        "\n",
        "| Function | Description | Syntax | Example |\n",
        "|---------|-------------|--------|---------|\n",
        "| `str()` | Show internal structure of an object | `str(object)` | `str(mtcars)` |\n",
        "| `head()` | Display first few rows | `head(x, n = 6)` | `head(iris)` |\n",
        "| `tail()` | Display last few rows | `tail(x, n = 6)` | `tail(iris)` |\n",
        "| `dim()` | Get dimensions (rows, columns) | `dim(x)` | `dim(iris)` |\n",
        "| `nrow()`, `ncol()` | Number of rows/columns | `nrow(x)`, `ncol(x)` | `nrow(iris)` |\n",
        "\n",
        "---\n",
        "\n",
        "## 📊 2. **Summary Statistics**\n",
        "\n",
        "| Function | Description | Syntax | Example |\n",
        "|---------|-------------|--------|---------|\n",
        "| `summary()` | Summary stats for each column | `summary(object)` | `summary(iris)` |\n",
        "| `mean()` | Mean of numeric vector | `mean(x, na.rm = FALSE)` | `mean(cars$speed)` |\n",
        "| `median()` | Median value | `median(x, na.rm = FALSE)` | `median(mtcars$mpg)` |\n",
        "| `sd()` | Standard deviation | `sd(x, na.rm = FALSE)` | `sd(mtcars$hp)` |\n",
        "| `var()` | Variance | `var(x, na.rm = FALSE)` | `var(mtcars$wt)` |\n",
        "| `min()`, `max()` | Min/max value | `min(x, na.rm = TRUE)` | `min(airquality$Temp)` |\n",
        "| `range()` | Min and max together | `range(x, na.rm = TRUE)` | `range(airquality$Wind)` |\n",
        "| `quantile()` | Percentiles | `quantile(x, probs = seq(0, 1, 0.25))` | `quantile(mtcars$mpg)` |\n",
        "| `IQR()` | Interquartile range | `IQR(x, na.rm = TRUE)` | `IQR(mtcars$cyl)` |\n",
        "| `cor()` | Correlation matrix | `cor(x, use = \"complete.obs\")` | `cor(mtcars[, c(\"mpg\", \"hp\", \"wt\")])` |\n",
        "\n",
        "---\n",
        "\n",
        "## 🔍 3. **Missing Value Detection**\n",
        "\n",
        "| Function | Description | Syntax | Example |\n",
        "|---------|-------------|--------|---------|\n",
        "| `is.na()` | Logical vector showing NA values | `is.na(x)` | `is.na(airquality$Ozone)` |\n",
        "| `sum(is.na())` | Count missing values | `sum(is.na(x))` | `sum(is.na(airquality))` |\n",
        "| `complete.cases()` | Find complete cases | `complete.cases(x)` | `sum(complete.cases(airquality))` |\n",
        "| `na.omit()` | Remove rows with NA | `na.omit(x)` | `na.omit(airquality)` |\n",
        "\n",
        "---\n",
        "\n",
        "## 📋 4. **Frequency Tables**\n",
        "\n",
        "| Function | Description | Syntax | Example |\n",
        "|---------|-------------|--------|---------|\n",
        "| `table()` | Frequency table | `table(...)` | `table(mtcars$cyl)` |\n",
        "| `prop.table()` | Proportion table | `prop.table(table(...))` | `prop.table(table(mtcars$gear))` |\n",
        "| `xtabs()` | Cross-tabulation formula interface | `xtabs(formula, data)` | `xtabs(~ cyl + gear, data = mtcars)` |\n",
        "| `margin.table()` | Sum over margins | `margin.table(xtabs(...), margin)` | `margin.table(xtabs(~cyl+gear, mtcars), 1)` |\n",
        "\n",
        "---\n",
        "\n",
        "## 📈 5. **Visual EDA Functions (Base R)**\n",
        "\n",
        "| Function | Description | Syntax | Example |\n",
        "|---------|-------------|--------|---------|\n",
        "| `plot()` | Generic plot function | `plot(x, y)` | `plot(mtcars$wt, mtcars$mpg)` |\n",
        "| `hist()` | Histogram | `hist(x)` | `hist(mtcars$mpg)` |\n",
        "| `boxplot()` | Box-and-whisker plot | `boxplot(x ~ group)` | `boxplot(mpg ~ cyl, data = mtcars)` |\n",
        "| `qqnorm()`, `qqline()` | Normal quantile-quantile plot | `qqnorm(x); qqline(x)` | `qqnorm(mtcars$mpg)` |\n",
        "| `pairs()` | Scatterplot matrix | `pairs(x)` | `pairs(iris[, 1:4])` |\n",
        "| `barplot()` | Bar chart | `barplot(height)` | `barplot(table(mtcars$cyl))` |\n",
        "| `dotchart()` | Dot chart | `dotchart(x)` | `dotchart(mtcars$mpg)` |\n",
        "\n",
        "---\n",
        "\n",
        "## 📐 6. **Data Wrangling (dplyr)**\n",
        "\n",
        "| Function | Description | Syntax | Example |\n",
        "|---------|-------------|--------|---------|\n",
        "| `filter()` | Select rows by condition | `filter(data, condition)` | `filter(mtcars, mpg > 20)` |\n",
        "| `select()` | Choose columns | `select(data, col1, col2)` | `select(iris, Sepal.Length, Species)` |\n",
        "| `mutate()` | Add or modify variables | `mutate(data, new_col = expr)` | `mutate(mtcars, hp_per_cyl = hp / cyl)` |\n",
        "| `arrange()` | Sort rows | `arrange(data, col)` | `arrange(mtcars, desc(mpg))` |\n",
        "| `group_by()` | Group operations | `group_by(data, col)` | `mtcars %>% group_by(cyl)` |\n",
        "| `summarize()` | Compute summary statistics | `summarize(data, stat = fn(col))` | `mtcars %>% summarize(avg_mpg = mean(mpg))` |\n",
        "| `distinct()` | Unique rows | `distinct(data)` | `distinct(mtcars$cyl)` |\n",
        "| `rename()` | Rename columns | `rename(data, new_name = old_name)` | `rename(df, MilesPerGallon = mpg)` |\n",
        "\n",
        "---\n",
        "\n",
        "## 📂 7. **Tidying Data (tidyr)**\n",
        "\n",
        "| Function | Description | Syntax | Example |\n",
        "|---------|-------------|--------|---------|\n",
        "| `pivot_longer()` | Convert wide to long format | `pivot_longer(data, cols, names_to, values_to)` | `pivot_longer(df, -id, names_to = \"var\", values_to = \"val\")` |\n",
        "| `pivot_wider()` | Convert long to wide format | `pivot_wider(data, names_from, values_from)` | `pivot_wider(df, names_from = var, values_from = val)` |\n",
        "| `separate()` | Split one column into multiple | `separate(data, col, into)` | `separate(df, name, into = c(\"first\", \"last\"))` |\n",
        "| `unite()` | Combine multiple columns into one | `unite(data, new_col, cols)` | `unite(df, full_name, first, last)` |\n",
        "| `drop_na()` | Remove rows with NAs | `drop_na(data, cols)` | `drop_na(df, age)` |\n",
        "\n",
        "---\n",
        "\n",
        "## 📁 8. **Loading Data (readr / readxl)**\n",
        "\n",
        "| Function | Description | Syntax | Example |\n",
        "|---------|-------------|--------|---------|\n",
        "| `read_csv()` | Load CSV file | `read_csv(\"file.csv\")` | `read_csv(\"data.csv\")` |\n",
        "| `read_excel()` | Load Excel file | `read_excel(\"file.xlsx\", sheet = 1)` | `read_excel(\"data.xlsx\", sheet = \"Sheet1\")` |\n",
        "| `read_tsv()` | Load tab-separated file | `read_tsv(\"file.tsv\")` | `read_tsv(\"data.tsv\")` |\n",
        "\n",
        "---\n",
        "\n",
        "## 📎 9. **Miscellaneous Useful Functions**\n",
        "\n",
        "| Function | Description | Syntax | Example |\n",
        "|---------|-------------|--------|---------|\n",
        "| `names()` | Get or set column names | `names(data)` | `names(mtcars)` |\n",
        "| `colnames()` | Same as `names()` for data frames | `colnames(data)` | `colnames(iris)` |\n",
        "| `rownames()` | Get or set row names | `rownames(data)` | `rownames(mtcars)` |\n",
        "| `typeof()`, `class()` | Check type/class of object | `typeof(x)`, `class(x)` | `class(iris$Species)` |\n",
        "| `unique()` | Unique values | `unique(x)` | `unique(mtcars$cyl)` |\n",
        "| `length()` | Length of vector | `length(x)` | `length(c(1,2,3))` |\n",
        "\n",
        "---\n",
        "\n",
        "## ✅ Bonus: Full EDA Workflow Using `tidyverse`\n",
        "\n",
        "```r\n",
        "library(tidyverse)\n",
        "\n",
        "# Load data\n",
        "df <- read_csv(\"data.csv\")\n",
        "\n",
        "# Inspect structure\n",
        "str(df)\n",
        "summary(df)\n",
        "\n",
        "# Handle missing values\n",
        "df <- df %>% drop_na()\n",
        "\n",
        "# View top correlations\n",
        "cor_matrix <- cor(select(df, where(is.numeric)), use = \"complete.obs\")\n",
        "print(cor_matrix)\n",
        "\n",
        "# Visualize distribution\n",
        "ggplot(df, aes(x = mpg)) +\n",
        "  geom_histogram(bins = 20, fill = \"steelblue\")\n",
        "\n",
        "# Grouped summary\n",
        "df %>%\n",
        "  group_by(cyl) %>%\n",
        "  summarize(avg_mpg = mean(mpg))\n",
        "```\n",
        "\n",
        "---\n",
        "\n"
      ],
      "metadata": {
        "id": "b3G0uNiOlQfs"
      }
    },
    {
      "cell_type": "code",
      "source": [],
      "metadata": {
        "id": "iOd_aiQclVYi"
      },
      "execution_count": null,
      "outputs": []
    },
    {
      "cell_type": "markdown",
      "source": [
        "\n",
        "---\n",
        "\n",
        "# 📘 **R Programming: Full Function Syntax Reference**\n",
        "\n",
        "This guide is structured by topic and includes:\n",
        "- ✅ Function name\n",
        "- 📌 Purpose\n",
        "- 💻 Syntax\n",
        "- 🧪 Minimal Example\n",
        "\n",
        "---\n",
        "\n",
        "## 🔹 1. **Data Manipulation (`dplyr`)**\n",
        "\n",
        "| Function | Description | Syntax | Example |\n",
        "|---------|-------------|--------|---------|\n",
        "| `filter()` | Select rows by condition | `filter(data, condition)` | `filter(mtcars, mpg > 20)` |\n",
        "| `select()` | Choose columns | `select(data, col1, col2)` | `select(iris, Sepal.Length, Species)` |\n",
        "| `mutate()` | Add or modify variables | `mutate(data, new_col = expr)` | `mutate(mtcars, hp_per_cyl = hp / cyl)` |\n",
        "| `arrange()` | Sort rows | `arrange(data, col)` | `arrange(mtcars, desc(mpg))` |\n",
        "| `group_by()` | Group operations | `group_by(data, col)` | `mtcars %>% group_by(cyl)` |\n",
        "| `summarize()` | Compute summary stats | `summarize(data, stat = fn(col))` | `mtcars %>% summarize(avg_mpg = mean(mpg))` |\n",
        "| `distinct()` | Unique rows | `distinct(data)` | `distinct(mtcars$cyl)` |\n",
        "| `rename()` | Rename columns | `rename(data, new_name = old_name)` | `rename(df, MilesPerGallon = mpg)` |\n",
        "\n",
        "---\n",
        "\n",
        "## 🔹 2. **List Management**\n",
        "\n",
        "| Function | Description | Syntax | Example |\n",
        "|---------|-------------|--------|---------|\n",
        "| `list()` | Create list | `list(...)` | `my_list <- list(a = 1, b = \"hello\")` |\n",
        "| `[[ ]]` | Access element by position/name | `list[[index]]` | `my_list[[1]]`, `my_list$name` |\n",
        "| `$` | Access named element | `list$name` | `my_list$name` |\n",
        "| `unlist()` | Flatten list | `unlist(list)` | `unlist(my_list)` |\n",
        "| `lapply()` | Apply function to each element | `lapply(list, FUN)` | `lapply(my_list, mean)` |\n",
        "| `sapply()` | Same as `lapply()`, simplified output | `sapply(list, FUN)` | `sapply(my_list, length)` |\n",
        "\n",
        "---\n",
        "\n",
        "## 🔹 3. **Data Transformation (`tidyr`)**\n",
        "\n",
        "| Function | Description | Syntax | Example |\n",
        "|---------|-------------|--------|---------|\n",
        "| `pivot_longer()` | Wide to long format | `pivot_longer(data, cols, names_to, values_to)` | `pivot_longer(df, -id, names_to = \"var\", values_to = \"val\")` |\n",
        "| `pivot_wider()` | Long to wide format | `pivot_wider(data, names_from, values_from)` | `pivot_wider(df, names_from = var, values_from = val)` |\n",
        "| `separate()` | Split column into multiple | `separate(data, col, into)` | `separate(df, name, into = c(\"first\", \"last\"))` |\n",
        "| `unite()` | Combine multiple columns | `unite(data, new_col, cols)` | `unite(df, full_name, first, last)` |\n",
        "| `drop_na()` | Remove NA rows | `drop_na(data, cols)` | `drop_na(df, age)` |\n",
        "\n",
        "---\n",
        "\n",
        "## 🔹 4. **Merging Data Frames (`dplyr`)**\n",
        "\n",
        "| Function | Description | Syntax | Example |\n",
        "|---------|-------------|--------|---------|\n",
        "| `inner_join()` | Match rows in both tables | `inner_join(x, y, by = \"key\")` | `inner_join(df1, df2, by = \"id\")` |\n",
        "| `left_join()` | All rows from x + matching y | `left_join(x, y, by = \"key\")` | `left_join(df1, df2, by = \"id\")` |\n",
        "| `right_join()` | All rows from y + matching x | `right_join(x, y, by = \"key\")` | `right_join(df1, df2, by = \"id\")` |\n",
        "| `full_join()` | All rows from both | `full_join(x, y, by = \"key\")` | `full_join(df1, df2, by = \"id\")` |\n",
        "| `bind_rows()` | Stack data frames vertically | `bind_rows(df1, df2)` | `bind_rows(df1, df2)` |\n",
        "| `bind_cols()` | Combine data frames horizontally | `bind_cols(df1, df2)` | `bind_cols(df1, df2)` |\n",
        "\n",
        "---\n",
        "\n",
        "## 🔹 5. **Outlier Detection**\n",
        "\n",
        "| Function | Description | Syntax | Example |\n",
        "|---------|-------------|--------|---------|\n",
        "| `boxplot.stats()` | Get outlier boundaries | `boxplot.stats(x)$out` | `boxplot.stats(mtcars$mpg)$out` |\n",
        "| `IQR()` | Interquartile range | `IQR(x, na.rm = TRUE)` | `IQR(mtcars$mpg)` |\n",
        "| `quantile()` | Percentiles | `quantile(x, probs)` | `quantile(mtcars$mpg, c(0.25, 0.75))` |\n",
        "| `abs(scale())` | Z-score method | `which(abs(scale(x)) > 2)` | `which(abs(scale(mtcars$mpg)) > 2)` |\n",
        "\n",
        "---\n",
        "\n",
        "## 🔹 6. **Combining Multiple Vectors**\n",
        "\n",
        "| Function | Description | Syntax | Example |\n",
        "|---------|-------------|--------|---------|\n",
        "| `c()` | Concatenate | `c(vec1, vec2)` | `c(1:3, 4:6)` |\n",
        "| `append()` | Insert at specific index | `append(x, values, after)` | `append(1:3, 99, after = 1)` |\n",
        "| `mapply()` | Apply function element-wise | `mapply(FUN, vec1, vec2)` | `mapply(sum, 1:3, 10:12)` |\n",
        "| `rbind()` | Row bind vectors | `rbind(vec1, vec2)` | `rbind(c(1,2), c(3,4))` |\n",
        "| `cbind()` | Column bind vectors | `cbind(vec1, vec2)` | `cbind(c(1,2), c(3,4))` |\n",
        "\n",
        "---\n",
        "\n",
        "## 🔹 7. **Logistic Regression (`stats`)**\n",
        "\n",
        "| Function | Description | Syntax | Example |\n",
        "|---------|-------------|--------|---------|\n",
        "| `glm()` | Generalized linear model | `glm(formula, family, data)` | `glm(pass ~ hours, family = binomial, data = study_data)` |\n",
        "| `predict()` | Predict probabilities | `predict(model, type = \"response\")` | `predict(model, type = \"response\")` |\n",
        "| `ifelse()` | Binary classification | `ifelse(condition, yes, no)` | `ifelse(pred > 0.5, 1, 0)` |\n",
        "| `table()` | Confusion matrix | `table(actual, predicted)` | `table(study_data$pass, pred_class)` |\n",
        "\n",
        "---\n",
        "\n",
        "## 🔹 8. **Hierarchical Clustering**\n",
        "\n",
        "| Function | Description | Syntax | Example |\n",
        "|---------|-------------|--------|---------|\n",
        "| `dist()` | Distance matrix | `dist(data)` | `dist(USArrests)` |\n",
        "| `hclust()` | Hierarchical clustering | `hclust(dist_matrix)` | `hclust(dist(USArrests))` |\n",
        "| `cutree()` | Cut dendrogram into clusters | `cutree(hc, k)` | `cutree(hc, k = 3)` |\n",
        "| `plot()` | Dendrogram plot | `plot(hc)` | `plot(hclust(dist(USArrests)))` |\n",
        "\n",
        "---\n",
        "\n",
        "## 🔹 9. **PCA (Dimensionality Reduction)**\n",
        "\n",
        "| Function | Description | Syntax | Example |\n",
        "|---------|-------------|--------|---------|\n",
        "| `prcomp()` | Principal components | `prcomp(data, scale = TRUE)` | `prcomp(iris[, 1:4], scale = TRUE)` |\n",
        "| `summary()` | Variance explained | `summary(pca_result)` | `summary(prcomp(iris[, 1:4]))` |\n",
        "| `biplot()` | Biplot visualization | `biplot(pca_result)` | `biplot(prcomp(iris[, 1:4]))` |\n",
        "| `screeplot()` | Scree plot | `screeplot(pca_result)` | `screeplot(prcomp(iris[, 1:4]), type = \"line\")` |\n",
        "\n",
        "---\n",
        "\n",
        "## 🔹 10. **Data Import Techniques**\n",
        "\n",
        "| Function | Description | Syntax | Example |\n",
        "|---------|-------------|--------|---------|\n",
        "| `read.csv()` | Load CSV | `read.csv(\"file.csv\")` | `read.csv(\"data.csv\")` |\n",
        "| `read_excel()` | Load Excel | `read_excel(\"file.xlsx\", sheet = 1)` | `read_excel(\"data.xlsx\", sheet = \"Sheet1\")` |\n",
        "| `fromJSON()` | Load JSON | `fromJSON(\"file.json\")` | `fromJSON(\"data.json\")` |\n",
        "| `read_sav()` | Load SPSS file | `read_sav(\"file.sav\")` | `read_sav(\"survey.sav\")` |\n",
        "| `read_dta()` | Load Stata file | `read_dta(\"file.dta\")` | `read_dta(\"survey.dta\")` |\n",
        "\n",
        "---\n",
        "\n",
        "## 🔹 11. **Exploratory Data Analysis (EDA)**\n",
        "\n",
        "| Function | Description | Syntax | Example |\n",
        "|---------|-------------|--------|---------|\n",
        "| `str()` | Structure | `str(data)` | `str(iris)` |\n",
        "| `summary()` | Summary stats | `summary(data)` | `summary(mtcars)` |\n",
        "| `cor()` | Correlation matrix | `cor(data)` | `cor(mtcars[, 1:4])` |\n",
        "| `names()` | Column names | `names(data)` | `names(iris)` |\n",
        "| `head()` | First few rows | `head(data)` | `head(mtcars)` |\n",
        "| `dim()` | Dimensions | `dim(data)` | `dim(iris)` |\n",
        "\n",
        "---\n",
        "\n",
        "## 🔹 12. **Visualization – Base Graphics**\n",
        "\n",
        "| Function | Description | Syntax | Example |\n",
        "|---------|-------------|--------|---------|\n",
        "| `plot()` | Generic plot | `plot(x, y)` | `plot(mtcars$wt, mtcars$mpg)` |\n",
        "| `hist()` | Histogram | `hist(x)` | `hist(mtcars$mpg)` |\n",
        "| `boxplot()` | Boxplot | `boxplot(x ~ group)` | `boxplot(mpg ~ cyl, data = mtcars)` |\n",
        "| `barplot()` | Bar chart | `barplot(height)` | `barplot(table(mtcars$cyl))` |\n",
        "| `dotchart()` | Dot chart | `dotchart(x)` | `dotchart(mtcars$mpg)` |\n",
        "| `qqnorm()`, `qqline()` | Normality check | `qqnorm(x); qqline(x)` | `qqnorm(mtcars$mpg)` |\n",
        "\n",
        "---\n",
        "\n",
        "## 🔹 13. **Plotting and Coloring in R**\n",
        "\n",
        "| Function | Description | Syntax | Example |\n",
        "|---------|-------------|--------|---------|\n",
        "| `col` | Color argument | `plot(x, y, col = \"red\")` | `plot(1:10, col = \"blue\")` |\n",
        "| `pch` | Point shape | `plot(x, pch = 19)` | `plot(rnorm(10), pch = 16)` |\n",
        "| `lwd` | Line width | `plot(x, lwd = 2)` | `plot(1:10, lwd = 2)` |\n",
        "| `rainbow()` | Generate color palette | `rainbow(n)` | `barplot(1:5, col = rainbow(5))` |\n",
        "| `heat.colors()` | Heatmap colors | `heat.colors(n)` | `image(volcano, col = heat.colors(12))` |\n",
        "\n",
        "---\n",
        "\n",
        "\n"
      ],
      "metadata": {
        "id": "JAuM_x1pn7p_"
      }
    },
    {
      "cell_type": "code",
      "source": [],
      "metadata": {
        "id": "_IRTBEGzwgMf"
      },
      "execution_count": null,
      "outputs": []
    },
    {
      "cell_type": "markdown",
      "source": [
        "\n",
        "\n",
        "# 📝 **Easy-to-Use Generic Datasets for Machine Learning in R**\n",
        "\n",
        "---\n",
        "\n",
        "## 🧮 1. **Dataset for Linear Regression**\n",
        "Predict `salary` based on `experience` and `education_level`.\n",
        "\n",
        "```r\n",
        "# Simple dataset\n",
        "set.seed(123)\n",
        "df_regression <- data.frame(\n",
        "  experience = c(1, 2, 3, 4, 5),\n",
        "  education_level = c(12, 14, 16, 16, 18),\n",
        "  salary = c(40000, 50000, 60000, 70000, 80000)\n",
        ")\n",
        "\n",
        "# Fit linear regression model\n",
        "model <- lm(salary ~ experience + education_level, data = df_regression)\n",
        "summary(model)\n",
        "```\n",
        "\n",
        "---\n",
        "\n",
        "## 🔍 2. **Dataset for Logistic Regression**\n",
        "Predict whether a customer buys a product (`bought = 1/0`) based on `age` and `income`.\n",
        "\n",
        "```r\n",
        "# Binary classification dataset\n",
        "df_logistic <- data.frame(\n",
        "  age = c(25, 35, 45, 30, 50),\n",
        "  income = c(30000, 50000, 70000, 40000, 90000),\n",
        "  bought = factor(c(0, 0, 1, 0, 1))  # 0 = No, 1 = Yes\n",
        ")\n",
        "\n",
        "# Logistic regression model\n",
        "model <- glm(bought ~ age + income, data = df_logistic, family = binomial)\n",
        "summary(model)\n",
        "```\n",
        "\n",
        "---\n",
        "\n",
        "## 🧩 3. **Dataset for Clustering (K-Means / Hierarchical)**\n",
        "\n",
        "Cluster customers based on `spending_score` and `income`.\n",
        "\n",
        "```r\n",
        "# Unsupervised clustering dataset\n",
        "df_cluster <- data.frame(\n",
        "  spending_score = c(20, 40, 60, 80, 90),\n",
        "  income = c(30000, 40000, 50000, 60000, 70000)\n",
        ")\n",
        "\n",
        "# K-Means Clustering\n",
        "kmeans_model <- kmeans(df_cluster, centers = 2)\n",
        "print(kmeans_model$cluster)\n",
        "\n",
        "# Hierarchical Clustering\n",
        "dist_matrix <- dist(df_cluster)\n",
        "hc <- hclust(dist_matrix)\n",
        "plot(hc)\n",
        "```\n",
        "\n",
        "---\n",
        "\n",
        "## 🌳 4. **Dataset for CART & Random Forest**\n",
        "\n",
        "Classify students as `pass` or `fail` based on `hours_studied` and `attendance`.\n",
        "\n",
        "```r\n",
        "# Classification dataset\n",
        "df_tree <- data.frame(\n",
        "  hours_studied = c(2, 3, 5, 6, 8),\n",
        "  attendance = c(70, 80, 90, 85, 95),\n",
        "  result = factor(c(\"Fail\", \"Fail\", \"Pass\", \"Pass\", \"Pass\"))\n",
        ")\n",
        "\n",
        "# CART Model\n",
        "library(rpart)\n",
        "cart_model <- rpart(result ~ ., data = df_tree, method = \"class\")\n",
        "print(cart_model)\n",
        "\n",
        "# Random Forest\n",
        "library(randomForest)\n",
        "rf_model <- randomForest(result ~ ., data = df_tree)\n",
        "print(rf_model)\n",
        "```\n",
        "\n",
        "---\n",
        "\n",
        "## 🎨 5. **Dataset for Naïve Bayes & SVM**\n",
        "\n",
        "Predict email type (`spam` or `not_spam`) based on word counts.\n",
        "\n",
        "```r\n",
        "# Naive Bayes / SVM dataset\n",
        "df_svm <- data.frame(\n",
        "  contains_free = c(1, 0, 1, 0, 1),\n",
        "  contains_offer = c(1, 1, 0, 0, 1),\n",
        "  is_spam = factor(c(\"spam\", \"spam\", \"spam\", \"not_spam\", \"spam\"))\n",
        ")\n",
        "\n",
        "# Naïve Bayes\n",
        "library(e1071)\n",
        "nb_model <- naiveBayes(is_spam ~ ., data = df_svm)\n",
        "predict(nb_model, df_svm)\n",
        "\n",
        "# Support Vector Machine\n",
        "svm_model <- svm(is_spam ~ ., data = df_svm)\n",
        "predict(svm_model, df_svm)\n",
        "```\n",
        "\n",
        "---\n",
        "\n",
        "## 📋 Summary Table: Dataset Use Cases\n",
        "\n",
        "| Dataset | Purpose | Algorithms |\n",
        "|--------|---------|------------|\n",
        "| `df_regression` | Predict continuous value | Linear Regression |\n",
        "| `df_logistic` | Binary classification | Logistic Regression |\n",
        "| `df_cluster` | Group unlabeled data | K-Means, Hierarchical |\n",
        "| `df_tree` | Classify into categories | CART, Random Forest |\n",
        "| `df_svm` | Text classification | Naïve Bayes, SVM |\n",
        "\n",
        "---\n",
        "\n"
      ],
      "metadata": {
        "id": "f2oiVn4WwYrR"
      }
    },
    {
      "cell_type": "code",
      "source": [
        "#SimposonParadox\n",
        "# Toy dataset\n",
        "data <- data.frame(\n",
        "  Group = rep(c(\"A\", \"B\"), each = 2),\n",
        "  AgeGroup = rep(c(\"Young\", \"Old\"), times = 2),\n",
        "  SuccessRate = c(70, 65, 90, 85)\n",
        ")\n",
        "print(data)"
      ],
      "metadata": {
        "colab": {
          "base_uri": "https://localhost:8080/"
        },
        "id": "ysuyVPRFwdqB",
        "outputId": "f9a74a10-65b5-4ae9-af52-18261176219c"
      },
      "execution_count": 56,
      "outputs": [
        {
          "output_type": "stream",
          "name": "stdout",
          "text": [
            "  Group AgeGroup SuccessRate\n",
            "1     A    Young          70\n",
            "2     A      Old          65\n",
            "3     B    Young          90\n",
            "4     B      Old          85\n"
          ]
        }
      ]
    },
    {
      "cell_type": "code",
      "source": [
        "x <- c(10, 20, 30, 40, 50)\n",
        "cv <- sd(x) / mean(x)\n",
        "print(paste(\"Coefficient of Variation:\", cv))"
      ],
      "metadata": {
        "colab": {
          "base_uri": "https://localhost:8080/"
        },
        "id": "wcq6ikeQxMzr",
        "outputId": "8d7ce859-6eec-41c5-fba3-19086227add5"
      },
      "execution_count": 57,
      "outputs": [
        {
          "output_type": "stream",
          "name": "stdout",
          "text": [
            "[1] \"Coefficient of Variation: 0.52704627669473\"\n"
          ]
        }
      ]
    },
    {
      "cell_type": "code",
      "source": [
        "x <- c(1, 2, 3, 4, 5)\n",
        "y <- c(2, 4, 6, 8, 10)\n",
        "correlation <- cor(x, y)\n",
        "print(paste(\"Pearson Correlation:\", correlation))"
      ],
      "metadata": {
        "colab": {
          "base_uri": "https://localhost:8080/"
        },
        "id": "J1QSD5PyxZAX",
        "outputId": "35c0e6dc-6b14-47c0-e744-54797fc69f6a"
      },
      "execution_count": 58,
      "outputs": [
        {
          "output_type": "stream",
          "name": "stdout",
          "text": [
            "[1] \"Pearson Correlation: 1\"\n"
          ]
        }
      ]
    },
    {
      "cell_type": "code",
      "source": [],
      "metadata": {
        "id": "P3wF8HgyxetS"
      },
      "execution_count": null,
      "outputs": []
    },
    {
      "cell_type": "markdown",
      "source": [
        "\n",
        "---\n",
        "\n",
        "# 📘 **Complete Theory Guide: Statistics & Probability**\n",
        "\n",
        "---\n",
        "\n",
        "## 1. **Describing a Single Set of Data**\n",
        "\n",
        "### 📌 What is it?\n",
        "\n",
        "This refers to summarizing and understanding the characteristics of a single dataset using numerical and graphical methods.\n",
        "\n",
        "### 🔍 Why Important:\n",
        "- Helps understand data before modeling\n",
        "- Identifies patterns, outliers, skewness\n",
        "- Forms basis for inferential statistics\n",
        "\n",
        "### ✅ Key Aspects:\n",
        "- **Central Tendency**: Where most values lie\n",
        "- **Dispersion**: How spread out the data is\n",
        "- **Shape**: Skewness, kurtosis\n",
        "- **Outliers**: Extreme values that differ significantly from others\n",
        "\n",
        "---\n",
        "\n",
        "## 2. **Measures of Central Tendency**\n",
        "\n",
        "### 🧮 Mean (Arithmetic Average)\n",
        "$$\n",
        "\\bar{x} = \\frac{\\sum x_i}{n}\n",
        "$$\n",
        "\n",
        "**Use When**: Data is symmetric and free of outliers.\n",
        "\n",
        "**R Code**: `mean(x)`\n",
        "\n",
        "---\n",
        "\n",
        "### 🧮 Median (Middle Value)\n",
        "The value separating the higher half from the lower half.\n",
        "\n",
        "**Use When**: Data is skewed or has outliers.\n",
        "\n",
        "**R Code**: `median(x)`\n",
        "\n",
        "---\n",
        "\n",
        "### 🧮 Mode (Most Frequent Value)\n",
        "\n",
        "**Use When**: Dealing with categorical or discrete data.\n",
        "\n",
        "**R Code**: Use `table()` or package like `modeest`.\n",
        "\n",
        "```r\n",
        "library(modeest)\n",
        "mlv(x, method = \"mfv\")\n",
        "```\n",
        "\n",
        "---\n",
        "\n",
        "## 3. **Measures of Dispersion**\n",
        "\n",
        "### 🧮 Variance\n",
        "$$\n",
        "s^2 = \\frac{\\sum (x_i - \\bar{x})^2}{n - 1}\n",
        "$$\n",
        "\n",
        "**R Code**: `var(x)`\n",
        "\n",
        "---\n",
        "\n",
        "### 🧮 Standard Deviation\n",
        "$$\n",
        "s = \\sqrt{Var(x)}\n",
        "$$\n",
        "\n",
        "**R Code**: `sd(x)`\n",
        "\n",
        "---\n",
        "\n",
        "### 🧮 Range\n",
        "Difference between max and min.\n",
        "\n",
        "**R Code**: `diff(range(x))`\n",
        "\n",
        "---\n",
        "\n",
        "### 🧮 Interquartile Range (IQR)\n",
        "$$\n",
        "IQR = Q_3 - Q_1\n",
        "$$\n",
        "\n",
        "**R Code**: `IQR(x)`\n",
        "\n",
        "---\n",
        "\n",
        "### 🧮 Coefficient of Variation (CV)\n",
        "Normalized standard deviation:\n",
        "\n",
        "$$\n",
        "CV = \\frac{s}{\\bar{x}}\n",
        "$$\n",
        "\n",
        "**Use When**: Comparing variability across datasets with different units or scales.\n",
        "\n",
        "---\n",
        "\n",
        "## 4. **Correlation**\n",
        "\n",
        "### 📈 Pearson Correlation Coefficient\n",
        "Measures linear relationship between two variables.\n",
        "\n",
        "$$\n",
        "r = \\frac{\\sum (x_i - \\bar{x})(y_i - \\bar{y})}{\\sqrt{\\sum (x_i - \\bar{x})^2 \\sum (y_i - \\bar{y})^2}}\n",
        "$$\n",
        "\n",
        "| Value | Interpretation |\n",
        "|-------|----------------|\n",
        "| +1 | Perfect positive correlation |\n",
        "| 0 | No correlation |\n",
        "| -1 | Perfect negative correlation |\n",
        "\n",
        "**R Code**: `cor(x, y)`\n",
        "\n",
        "---\n",
        "\n",
        "### ⚠️ Caveats in Correlation\n",
        "\n",
        "#### 1. **Non-linear relationships**\n",
        "- High correlation only indicates linearity.\n",
        "- Use scatter plots to detect non-linear patterns.\n",
        "\n",
        "#### 2. **Influence of Outliers**\n",
        "- A single outlier can distort correlation.\n",
        "- Consider robust measures like Spearman's rank.\n",
        "\n",
        "#### 3. **Restricted Range**\n",
        "- If one variable has little variation, correlation will be low even if relationship exists.\n",
        "\n",
        "#### 4. **Ecological Fallacy**\n",
        "- Drawing conclusions about individuals based on group-level data.\n",
        "\n",
        "---\n",
        "\n",
        "## 5. **Simpson’s Paradox**\n",
        "\n",
        "> **Definition**: A trend appears in several groups but disappears or reverses when they are combined.\n",
        "\n",
        "### 🧪 Example:\n",
        "- Two treatments A and B show better results individually across age groups.\n",
        "- But when combined, treatment A looks worse.\n",
        "\n",
        "### 📌 Why It Happens:\n",
        "- Confounding variables not controlled\n",
        "- Unequal group sizes\n",
        "\n",
        "### 🧠 Lesson:\n",
        "Always analyze subgroups separately and look beyond aggregated data.\n",
        "\n",
        "---\n",
        "\n",
        "## 6. **Correlation ≠ Causation**\n",
        "\n",
        "> Just because two things are correlated doesn’t mean one causes the other.\n",
        "\n",
        "### 🧪 Examples:\n",
        "- Ice cream sales and drowning incidents → both increase due to **summer heat**\n",
        "- Shoe size and reading ability in children → confounded by **age**\n",
        "\n",
        "### 🧠 Common Pitfalls:\n",
        "- **Confounding Variables**\n",
        "- **Reverse Causality**\n",
        "- **Coincidence**\n",
        "\n",
        "---\n",
        "\n",
        "## 7. **Probability: Dependence and Independence**\n",
        "\n",
        "### 🧮 Independent Events:\n",
        "Two events where the occurrence of one does **not affect** the probability of the other.\n",
        "\n",
        "$$\n",
        "P(A \\cap B) = P(A) \\cdot P(B)\n",
        "$$\n",
        "\n",
        "### 🧮 Dependent Events:\n",
        "One event affects the likelihood of the other.\n",
        "\n",
        "$$\n",
        "P(A \\cap B) = P(A) \\cdot P(B|A)\n",
        "$$\n",
        "\n",
        "---\n",
        "\n",
        "## 8. **Conditional Probability**\n",
        "\n",
        "> The probability of an event given that another has occurred.\n",
        "\n",
        "$$\n",
        "P(A|B) = \\frac{P(A \\cap B)}{P(B)}\n",
        "$$\n",
        "\n",
        "### 🧪 Real-World Use:\n",
        "- Medical diagnosis\n",
        "- Risk assessment\n",
        "- Machine learning classification\n",
        "\n",
        "---\n",
        "\n",
        "## 9. **Bayes’s Theorem**\n",
        "\n",
        "Used to update the probability of a hypothesis as more evidence becomes available.\n",
        "\n",
        "$$\n",
        "P(A|B) = \\frac{P(B|A) \\cdot P(A)}{P(B)}\n",
        "$$\n",
        "\n",
        "### 🧪 Components:\n",
        "- $ P(A) $: Prior probability\n",
        "- $ P(B|A) $: Likelihood\n",
        "- $ P(B) $: Evidence\n",
        "- $ P(A|B) $: Posterior probability\n",
        "\n",
        "### 🧪 Application:\n",
        "- Spam filtering\n",
        "- Medical testing\n",
        "- A/B testing\n",
        "\n",
        "### ✅ R Code:\n",
        "```r\n",
        "P_A <- 0.01        # Prior\n",
        "P_B_given_A <- 0.9 # Likelihood\n",
        "P_B_given_notA <- 0.1\n",
        "P_notA <- 1 - P_A\n",
        "\n",
        "# Total probability of B\n",
        "P_B <- P_B_given_A * P_A + P_B_given_notA * P_notA\n",
        "\n",
        "# Bayes' Rule\n",
        "P_A_given_B <- (P_B_given_A * P_A) / P_B\n",
        "print(paste(\"P(A|B) =\", round(P_A_given_B, 2)))\n",
        "```\n",
        "\n",
        "---\n",
        "\n",
        "## 10. **Random Variables**\n",
        "\n",
        "### 📌 Definition:\n",
        "A function that assigns a numerical value to each outcome of a random experiment.\n",
        "\n",
        "### 🧮 Types:\n",
        "- **Discrete**: Takes countable values (e.g., coin toss)\n",
        "- **Continuous**: Takes any value in an interval (e.g., height)\n",
        "\n",
        "### 📊 Distribution:\n",
        "Describes how probabilities are distributed over the values of a random variable.\n",
        "\n",
        "---\n",
        "\n",
        "## 11. **Normal Distribution**\n",
        "\n",
        "Also known as the **Gaussian distribution**, it is central to statistical inference.\n",
        "\n",
        "### 🧮 Formula:\n",
        "$$\n",
        "f(x) = \\frac{1}{\\sigma \\sqrt{2\\pi}} e^{-\\frac{(x-\\mu)^2}{2\\sigma^2}}\n",
        "$$\n",
        "\n",
        "Where:\n",
        "- $ \\mu $: mean\n",
        "- $ \\sigma $: standard deviation\n",
        "\n",
        "### 📈 Properties:\n",
        "- Symmetric bell-shaped curve\n",
        "- Mean = Median = Mode\n",
        "- Follows 68–95–99.7 rule\n",
        "\n",
        "### ✅ In R:\n",
        "```r\n",
        "x <- seq(-4, 4, length.out = 100)\n",
        "plot(x, dnorm(x), type = \"l\", main = \"Standard Normal Curve\")\n",
        "```\n",
        "\n",
        "---\n",
        "\n",
        "## 12. **Binary Distributions**\n",
        "\n",
        "### 🟢 Bernoulli Distribution:\n",
        "- Describes a single trial with two outcomes: success (1) or failure (0)\n",
        "- PMF: $ P(X=1) = p, P(X=0) = 1-p $\n",
        "\n",
        "### 🔵 Binomial Distribution:\n",
        "- Number of successes in $ n $ independent Bernoulli trials\n",
        "- PMF:\n",
        "$$\n",
        "P(X=k) = \\binom{n}{k} p^k (1-p)^{n-k}\n",
        "$$\n",
        "\n",
        "### ✅ In R:\n",
        "```r\n",
        "x <- 0:10\n",
        "prob <- dbinom(x, size = 10, prob = 0.5)\n",
        "plot(x, prob, type = \"h\", main = \"Binomial Distribution (n=10, p=0.5)\")\n",
        "```\n",
        "\n",
        "---\n",
        "\n",
        "## 📝 Summary Table\n",
        "\n",
        "| Concept | Description | Formula | R Function |\n",
        "|--------|-------------|---------|------------|\n",
        "| Mean | Average value | $ \\bar{x} = \\frac{\\sum x_i}{n} $ | `mean()` |\n",
        "| Median | Middle value | — | `median()` |\n",
        "| Mode | Most frequent | — | `table()`, `modeest` |\n",
        "| Variance | Spread around mean | $ s^2 = \\frac{\\sum (x_i - \\bar{x})^2}{n-1} $ | `var()` |\n",
        "| Standard Deviation | Square root of variance | $ s = \\sqrt{Var(x)} $ | `sd()` |\n",
        "| IQR | Spread around median | $ Q3 - Q1 $ | `IQR()` |\n",
        "| Correlation | Linear relationship | $ r $ | `cor()` |\n",
        "| Conditional Prob | Given another event | $ P(A|B) $ | Manual |\n",
        "| Bayes’ Theorem | Update belief with data | $ P(A|B) = \\frac{P(B|A)P(A)}{P(B)} $ | Custom |\n",
        "| Random Variable | Numerical outcome | — | Built-in dists |\n",
        "| Normal Dist | Bell curve | $ f(x) $ | `dnorm()`, `pnorm()` |\n",
        "| Binary Dist | Success/failure | $ P(X=k) $ | `dbinom()` |\n",
        "\n",
        "---\n",
        "\n"
      ],
      "metadata": {
        "id": "-_HqT6Ncy4xF"
      }
    },
    {
      "cell_type": "code",
      "source": [],
      "metadata": {
        "id": "xAW66OL8y80-"
      },
      "execution_count": null,
      "outputs": []
    }
  ]
}