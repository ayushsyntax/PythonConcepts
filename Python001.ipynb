{
  "nbformat": 4,
  "nbformat_minor": 0,
  "metadata": {
    "colab": {
      "provenance": [],
      "authorship_tag": "ABX9TyNeq9ZQBKwiwUnEb0zH2Kuy"
    },
    "kernelspec": {
      "name": "python3",
      "display_name": "Python 3"
    },
    "language_info": {
      "name": "python"
    }
  },
  "cells": [
    {
      "cell_type": "code",
      "execution_count": 1,
      "metadata": {
        "colab": {
          "base_uri": "https://localhost:8080/"
        },
        "id": "hYDfXBn2EIQN",
        "outputId": "f224497f-445a-4446-f445-ace669dfb745"
      },
      "outputs": [
        {
          "output_type": "stream",
          "name": "stdout",
          "text": [
            "True\n",
            "True\n"
          ]
        },
        {
          "output_type": "stream",
          "name": "stderr",
          "text": [
            "<>:3: SyntaxWarning: \"is\" with a literal. Did you mean \"==\"?\n",
            "<>:3: SyntaxWarning: \"is\" with a literal. Did you mean \"==\"?\n",
            "<ipython-input-1-73fb3e77fb17>:3: SyntaxWarning: \"is\" with a literal. Did you mean \"==\"?\n",
            "  print(x is 5)  # True or False?\n"
          ]
        }
      ],
      "source": [
        "x = 5\n",
        "print(x == 5)  # True or False?\n",
        "print(x is 5)  # True or False?"
      ]
    },
    {
      "cell_type": "code",
      "source": [
        "print(x == 5)"
      ],
      "metadata": {
        "colab": {
          "base_uri": "https://localhost:8080/"
        },
        "id": "iJ5ohaYYFrPU",
        "outputId": "c3a78438-d133-432c-b971-cb97cd2e9159"
      },
      "execution_count": 3,
      "outputs": [
        {
          "output_type": "stream",
          "name": "stdout",
          "text": [
            "True\n"
          ]
        }
      ]
    },
    {
      "cell_type": "code",
      "source": [
        "print(x is 5)"
      ],
      "metadata": {
        "colab": {
          "base_uri": "https://localhost:8080/"
        },
        "id": "jtuKULpTF2nN",
        "outputId": "39c0b4f6-ec98-422a-e353-b15443343cfa"
      },
      "execution_count": 4,
      "outputs": [
        {
          "output_type": "stream",
          "name": "stdout",
          "text": [
            "True\n"
          ]
        },
        {
          "output_type": "stream",
          "name": "stderr",
          "text": [
            "<>:1: SyntaxWarning: \"is\" with a literal. Did you mean \"==\"?\n",
            "<>:1: SyntaxWarning: \"is\" with a literal. Did you mean \"==\"?\n",
            "<ipython-input-4-e74557eb5278>:1: SyntaxWarning: \"is\" with a literal. Did you mean \"==\"?\n",
            "  print(x is 5)\n"
          ]
        }
      ]
    },
    {
      "cell_type": "code",
      "source": [
        "def func(val, lst=[]):\n",
        "    lst.append(val)\n",
        "    return lst\n",
        "\n",
        "print(func(1))\n",
        "print(func(2))\n",
        "print(func(3, []))\n",
        "print(func(4))"
      ],
      "metadata": {
        "colab": {
          "base_uri": "https://localhost:8080/"
        },
        "id": "lqmIvx-iF6ZC",
        "outputId": "7b7945b4-6e4d-41b0-c9e4-dc6adaa95288"
      },
      "execution_count": 5,
      "outputs": [
        {
          "output_type": "stream",
          "name": "stdout",
          "text": [
            "[1]\n",
            "[1, 2]\n",
            "[3]\n",
            "[1, 2, 4]\n"
          ]
        }
      ]
    },
    {
      "cell_type": "code",
      "source": [
        "def extend_list(val, lst=[]):\n",
        "    lst += [val]\n",
        "    return lst\n",
        "\n",
        "list1 = extend_list(10)\n",
        "list2 = extend_list(20, [])\n",
        "list3 = extend_list(30)\n",
        "\n",
        "print(list1)\n",
        "print(list2)\n",
        "print(list3)"
      ],
      "metadata": {
        "colab": {
          "base_uri": "https://localhost:8080/"
        },
        "id": "0H9q1ZRaGLG3",
        "outputId": "08523ebb-0904-4fee-8f3c-505a83c2d902"
      },
      "execution_count": 6,
      "outputs": [
        {
          "output_type": "stream",
          "name": "stdout",
          "text": [
            "[10, 30]\n",
            "[20]\n",
            "[10, 30]\n"
          ]
        }
      ]
    },
    {
      "cell_type": "code",
      "source": [
        "def tricky_func(a, b=[]):\n",
        "    b.append(a)\n",
        "    return b\n",
        "\n",
        "def safer_func(a, b=None):\n",
        "    if b is None:\n",
        "        b = []\n",
        "    b.append(a)\n",
        "    return b\n",
        "\n",
        "print(tricky_func(1))\n",
        "print(tricky_func(2))\n",
        "print(safer_func(3))\n",
        "print(safer_func(4))"
      ],
      "metadata": {
        "colab": {
          "base_uri": "https://localhost:8080/"
        },
        "id": "J4h0CemDGX-y",
        "outputId": "ff6adad6-4d2f-4201-b89e-80b99b786a5c"
      },
      "execution_count": 7,
      "outputs": [
        {
          "output_type": "stream",
          "name": "stdout",
          "text": [
            "[1]\n",
            "[1, 2]\n",
            "[3]\n",
            "[4]\n"
          ]
        }
      ]
    },
    {
      "cell_type": "code",
      "source": [
        "def modify_list(lst):\n",
        "    lst[0] = 100\n",
        "\n",
        "a = [1, 2, 3]\n",
        "modify_list(a)\n",
        "print(a)"
      ],
      "metadata": {
        "colab": {
          "base_uri": "https://localhost:8080/"
        },
        "id": "pY_bt75aGymH",
        "outputId": "c19f855b-0031-43e4-aa31-6aafe331dc32"
      },
      "execution_count": 8,
      "outputs": [
        {
          "output_type": "stream",
          "name": "stdout",
          "text": [
            "[100, 2, 3]\n"
          ]
        }
      ]
    },
    {
      "cell_type": "code",
      "source": [
        "print(0.1 + 0.2 == 0.3) #due float precision"
      ],
      "metadata": {
        "colab": {
          "base_uri": "https://localhost:8080/"
        },
        "id": "ZtT9LJQLHGCr",
        "outputId": "e0413c4c-d847-47d3-a58c-98b0bae38086"
      },
      "execution_count": 9,
      "outputs": [
        {
          "output_type": "stream",
          "name": "stdout",
          "text": [
            "False\n"
          ]
        }
      ]
    },
    {
      "cell_type": "code",
      "source": [
        "x = \"Hello\"\n",
        "y = \"Hello\"\n",
        "print(x is y)"
      ],
      "metadata": {
        "colab": {
          "base_uri": "https://localhost:8080/"
        },
        "id": "ySuvQmvKHPzw",
        "outputId": "ab10fd67-808b-4143-9951-0c3b6393c1dd"
      },
      "execution_count": 10,
      "outputs": [
        {
          "output_type": "stream",
          "name": "stdout",
          "text": [
            "True\n"
          ]
        }
      ]
    },
    {
      "cell_type": "code",
      "source": [
        "print(id([]) == id([]))"
      ],
      "metadata": {
        "colab": {
          "base_uri": "https://localhost:8080/"
        },
        "id": "04LMjpgWHbub",
        "outputId": "b0307e1f-5a72-450f-f7fa-8c618954c5c5"
      },
      "execution_count": 11,
      "outputs": [
        {
          "output_type": "stream",
          "name": "stdout",
          "text": [
            "True\n"
          ]
        }
      ]
    },
    {
      "cell_type": "code",
      "source": [
        "a = (1, 2, [3, 4])\n",
        "a[2].append(5) #Tuples are immutable, but the list inside is mutable, so it can be modified.\n",
        "print(a)"
      ],
      "metadata": {
        "colab": {
          "base_uri": "https://localhost:8080/"
        },
        "id": "4nfvbJt7HhkY",
        "outputId": "9868d19a-141c-4329-8c47-49419e954aaf"
      },
      "execution_count": 12,
      "outputs": [
        {
          "output_type": "stream",
          "name": "stdout",
          "text": [
            "(1, 2, [3, 4, 5])\n"
          ]
        }
      ]
    },
    {
      "cell_type": "code",
      "source": [
        "print(bool(\"\"))\n",
        "print(bool(\" \"))#(Space is a non-empty string)\n",
        "print(bool([]))\n",
        "print(bool([False]))#(Non-empty list, even with False, is truthy)"
      ],
      "metadata": {
        "colab": {
          "base_uri": "https://localhost:8080/"
        },
        "id": "aOOuiCQ2Hmsl",
        "outputId": "1348bfd6-4ab9-4e35-e5b6-84aa9e86aa38"
      },
      "execution_count": 13,
      "outputs": [
        {
          "output_type": "stream",
          "name": "stdout",
          "text": [
            "False\n",
            "True\n",
            "False\n",
            "True\n"
          ]
        }
      ]
    },
    {
      "cell_type": "code",
      "source": [
        "a = 10\n",
        "b = a\n",
        "b += 5\n",
        "print(a, b)"
      ],
      "metadata": {
        "colab": {
          "base_uri": "https://localhost:8080/"
        },
        "id": "IZ5A2faFHyFw",
        "outputId": "55b3ef32-1bdc-4bf2-f9dc-26a6e0300bae"
      },
      "execution_count": 14,
      "outputs": [
        {
          "output_type": "stream",
          "name": "stdout",
          "text": [
            "10 15\n"
          ]
        }
      ]
    },
    {
      "cell_type": "code",
      "source": [
        "x = 10\n",
        "y = x\n",
        "y = y + 1\n",
        "print(x, y)"
      ],
      "metadata": {
        "colab": {
          "base_uri": "https://localhost:8080/"
        },
        "id": "Bg-4Og1jH9Kq",
        "outputId": "bcc1c442-e37c-4693-fc4d-44371f0ebcc6"
      },
      "execution_count": 15,
      "outputs": [
        {
          "output_type": "stream",
          "name": "stdout",
          "text": [
            "10 11\n"
          ]
        }
      ]
    },
    {
      "cell_type": "code",
      "source": [],
      "metadata": {
        "id": "Ugn6G7TwIBto"
      },
      "execution_count": null,
      "outputs": []
    }
  ]
}