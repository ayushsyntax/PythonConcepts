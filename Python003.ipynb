{
  "nbformat": 4,
  "nbformat_minor": 0,
  "metadata": {
    "colab": {
      "provenance": [],
      "authorship_tag": "ABX9TyPCRir0t8l3px0fXD1g3Z3H"
    },
    "kernelspec": {
      "name": "python3",
      "display_name": "Python 3"
    },
    "language_info": {
      "name": "python"
    }
  },
  "cells": [
    {
      "cell_type": "code",
      "execution_count": 1,
      "metadata": {
        "colab": {
          "base_uri": "https://localhost:8080/"
        },
        "id": "mBrgmmE8TNZl",
        "outputId": "1ada86c1-3a7c-4b10-b8af-00a4e4e1c6c9"
      },
      "outputs": [
        {
          "output_type": "stream",
          "name": "stdout",
          "text": [
            "Requirement already satisfied: mysql-connector-python in /usr/local/lib/python3.11/dist-packages (9.2.0)\n",
            "Requirement already satisfied: pymysql in /usr/local/lib/python3.11/dist-packages (1.1.1)\n",
            "Requirement already satisfied: sqlalchemy in /usr/local/lib/python3.11/dist-packages (2.0.38)\n",
            "Requirement already satisfied: greenlet!=0.4.17 in /usr/local/lib/python3.11/dist-packages (from sqlalchemy) (3.1.1)\n",
            "Requirement already satisfied: typing-extensions>=4.6.0 in /usr/local/lib/python3.11/dist-packages (from sqlalchemy) (4.12.2)\n"
          ]
        }
      ],
      "source": [
        "!pip install mysql-connector-python\n",
        "!pip install pymysql\n",
        "!pip install sqlalchemy\n"
      ]
    },
    {
      "cell_type": "code",
      "source": [
        "import sqlite3\n",
        "\n",
        "# Create or connect to a database\n",
        "conn = sqlite3.connect('example.db')\n",
        "cursor = conn.cursor()\n",
        "\n",
        "# Create a table\n",
        "cursor.execute('''CREATE TABLE IF NOT EXISTS users (id INTEGER, name TEXT)''')\n",
        "\n",
        "# Insert Data\n",
        "cursor.execute(\"INSERT INTO users (id, name) VALUES (1, 'Ayush')\")\n",
        "conn.commit()\n",
        "\n",
        "# Query Data\n",
        "cursor.execute(\"SELECT * FROM users\")\n",
        "print(cursor.fetchall())\n",
        "\n",
        "# Close Connection\n",
        "conn.close()\n"
      ],
      "metadata": {
        "id": "j616FBPgVK9Z"
      },
      "execution_count": null,
      "outputs": []
    },
    {
      "cell_type": "code",
      "source": [
        "import sqlite3\n",
        "conn = sqlite3.connect('example.db')\n",
        "cursor = conn.cursor()\n",
        "print(\"✅ Database connected successfully!\")"
      ],
      "metadata": {
        "id": "PeF5eYSYXlf_"
      },
      "execution_count": null,
      "outputs": []
    },
    {
      "cell_type": "code",
      "source": [
        "# Create a \"users\" table (if not exists)\n",
        "cursor.execute('''\n",
        "CREATE TABLE IF NOT EXISTS users (\n",
        "    id INTEGER PRIMARY KEY,\n",
        "    name TEXT NOT NULL,\n",
        "    age INTEGER\n",
        ");\n",
        "''')\n",
        "conn.commit()\n",
        "print(\"✅ Table created successfully!\")\n"
      ],
      "metadata": {
        "id": "c88DgSYzYfKV"
      },
      "execution_count": null,
      "outputs": []
    },
    {
      "cell_type": "code",
      "source": [
        "# Insert sample records\n",
        "cursor.execute(\"INSERT INTO users (name, age) VALUES ('Ayush', 19);\")\n",
        "cursor.execute(\"INSERT INTO users (name, age) VALUES ('John Doe', 25);\")\n",
        "conn.commit()\n",
        "\n",
        "print(\"✅ Data inserted successfully!\")\n"
      ],
      "metadata": {
        "id": "8c9Cf7OfY4bj"
      },
      "execution_count": null,
      "outputs": []
    },
    {
      "cell_type": "code",
      "source": [
        "# Fetch all records\n",
        "cursor.execute(\"SELECT * FROM users;\")\n",
        "rows = cursor.fetchall()\n",
        "\n",
        "print(\"👤 User Data:\")\n",
        "for row in rows:\n",
        "    print(row)  # (id, name, age)\n"
      ],
      "metadata": {
        "id": "71oVn7w4ZDED"
      },
      "execution_count": null,
      "outputs": []
    },
    {
      "cell_type": "code",
      "source": [
        "# Update a record\n",
        "cursor.execute(\"UPDATE users SET age = 22 WHERE name = 'Ayush';\")\n",
        "conn.commit()\n",
        "print(\"✅ Record updated successfully!\")\n"
      ],
      "metadata": {
        "id": "4hBeSr51ZX1x"
      },
      "execution_count": null,
      "outputs": []
    },
    {
      "cell_type": "code",
      "source": [
        "# Delete a record\n",
        "cursor.execute(\"DELETE FROM users WHERE name = 'John Doe';\")\n",
        "conn.commit()\n",
        "print(\"✅ Record deleted successfully!\")\n"
      ],
      "metadata": {
        "id": "xD-KLAhGZhd3"
      },
      "execution_count": null,
      "outputs": []
    },
    {
      "cell_type": "code",
      "source": [
        "# Fetch users above age 20, sorted by age\n",
        "cursor.execute(\"SELECT * FROM users WHERE age > 20 ORDER BY age;\")\n",
        "print(\"Filtered Results:\")\n",
        "for row in cursor.fetchall():\n",
        "    print(row)\n"
      ],
      "metadata": {
        "id": "Px2oQgoPZjgP"
      },
      "execution_count": null,
      "outputs": []
    },
    {
      "cell_type": "code",
      "source": [
        "# Always close the connection after use\n",
        "conn.close()\n",
        "print(\"✅ Database connection closed!\")\n"
      ],
      "metadata": {
        "id": "fFTADrChZoAI"
      },
      "execution_count": null,
      "outputs": []
    },
    {
      "cell_type": "code",
      "source": [
        "import sqlite3\n",
        "\n",
        "# 1️⃣ Step 1: Connect to SQLite Database (Creates a file if it doesn't exist)\n",
        "conn = sqlite3.connect('students.db')\n",
        "cursor = conn.cursor()\n",
        "print(\"✅ Database connected successfully\")\n",
        "\n",
        "# 2️⃣ Step 2: Create a Table\n",
        "cursor.execute('''\n",
        "CREATE TABLE IF NOT EXISTS students (\n",
        "    id INTEGER PRIMARY KEY AUTOINCREMENT,\n",
        "    name TEXT NOT NULL,\n",
        "    age INTEGER,\n",
        "    grade TEXT\n",
        ")\n",
        "''')\n",
        "conn.commit()\n",
        "print(\"✅ Table created successfully\")\n",
        "\n",
        "# 3️⃣ Step 3: Insert Data (CREATE operation)\n",
        "students_data = [\n",
        "    ('hk', 20, 'A'),\n",
        "    ('John', 21, 'B'),\n",
        "    ('Sarah', 22, 'A'),\n",
        "]\n",
        "cursor.executemany('INSERT INTO students (name, age, grade) VALUES (?, ?, ?)', students_data)\n",
        "conn.commit()\n",
        "print(\"✅ Data inserted successfully\")\n",
        "\n",
        "# 4️⃣ Step 4: Retrieve Data (READ operation)\n",
        "cursor.execute('SELECT * FROM students')\n",
        "print(\"\\n🎯 All Students:\")\n",
        "for row in cursor.fetchall():\n",
        "    print(row)\n",
        "\n",
        "# 5️⃣ Step 5: Update Data (UPDATE operation)\n",
        "cursor.execute('UPDATE students SET grade = ? WHERE name = ?', ('A+', 'John'))\n",
        "conn.commit()\n",
        "print(\"\\n✅ Data updated successfully\")\n",
        "\n",
        "# Check updated data\n",
        "cursor.execute('SELECT * FROM students WHERE name = \"John\"')\n",
        "print(\"\\n🔍 Updated Record:\")\n",
        "print(cursor.fetchall())\n",
        "\n",
        "# 6️⃣ Step 6: Delete Data (DELETE operation)\n",
        "cursor.execute('DELETE FROM students WHERE name = ?', ('Sarah',))\n",
        "conn.commit()\n",
        "print(\"\\n❌ Data deleted successfully\")\n",
        "\n",
        "# Final Data Check\n",
        "cursor.execute('SELECT * FROM students')\n",
        "print(\"\\n📊 Final Records:\")\n",
        "for row in cursor.fetchall():\n",
        "    print(row)\n",
        "\n",
        "# 7️⃣ Step 7: Close Connection\n",
        "conn.close()\n",
        "print(\"\\n🔒 Database connection closed\")\n"
      ],
      "metadata": {
        "id": "Zx6h6O6XZxLw"
      },
      "execution_count": null,
      "outputs": []
    },
    {
      "cell_type": "code",
      "source": [
        "from sqlalchemy import create_engine, Column, Integer, String\n",
        "from sqlalchemy.orm import declarative_base, sessionmaker\n",
        "\n",
        "# 1️⃣ Step 1: Connect to SQLite using SQLAlchemy\n",
        "engine = create_engine('sqlite:///students.db')\n",
        "Base = declarative_base()\n",
        "\n",
        "# 2️⃣ Step 2: Define a Table (Model Class)\n",
        "class Student(Base):\n",
        "    __tablename__ = 'students'\n",
        "    id = Column(Integer, primary_key=True, autoincrement=True)\n",
        "    name = Column(String, nullable=False)\n",
        "    age = Column(Integer)\n",
        "    grade = Column(String)\n",
        "\n",
        "    def __repr__(self):\n",
        "        return f\"<Student(id={self.id}, name={self.name}, age={self.age}, grade={self.grade})>\"\n",
        "\n",
        "# Create the Table\n",
        "Base.metadata.create_all(engine)\n",
        "print(\"✅ Table created using SQLAlchemy\")\n",
        "\n",
        "# 3️⃣ Step 3: Create a Session to Interact with the Database\n",
        "Session = sessionmaker(bind=engine)\n",
        "session = Session()\n",
        "\n",
        "# 4️⃣ Step 4: Insert Data (CREATE operation)\n",
        "new_students = [\n",
        "    Student(name='hj', age=20, grade='A'),\n",
        "    Student(name='John', age=21, grade='B'),\n",
        "    Student(name='Sarah', age=22, grade='A')\n",
        "]\n",
        "session.add_all(new_students)\n",
        "session.commit()\n",
        "print(\"✅ Data inserted using SQLAlchemy\")\n",
        "\n",
        "# 5️⃣ Step 5: Retrieve Data (READ operation)\n",
        "all_students = session.query(Student).all()\n",
        "print(\"\\n🎯 All Students (SQLAlchemy):\")\n",
        "for student in all_students:\n",
        "    print(student)\n",
        "\n",
        "# 6️⃣ Step 6: Update Data (UPDATE operation)\n",
        "john = session.query(Student).filter_by(name='John').first()\n",
        "john.grade = 'A+'\n",
        "session.commit()\n",
        "print(\"\\n✅ Updated John's grade\")\n",
        "\n",
        "# Verify update\n",
        "print(\"\\n🔍 Updated Record (SQLAlchemy):\")\n",
        "print(session.query(Student).filter_by(name='John').first())\n",
        "\n",
        "# 7️⃣ Step 7: Delete Data (DELETE operation)\n",
        "sarah = session.query(Student).filter_by(name='Sarah').first()\n",
        "session.delete(sarah)\n",
        "session.commit()\n",
        "print(\"\\n❌ Deleted Sarah's record\")\n",
        "\n",
        "# Final Data Check\n",
        "print(\"\\n📊 Final Records (SQLAlchemy):\")\n",
        "for student in session.query(Student).all():\n",
        "    print(student)\n",
        "\n",
        "# 8️⃣ Step 8: Close Session\n",
        "session.close()\n",
        "print(\"\\n🔒 Session closed\")\n"
      ],
      "metadata": {
        "id": "rA5FvyJEb0Iz"
      },
      "execution_count": null,
      "outputs": []
    },
    {
      "cell_type": "code",
      "source": [],
      "metadata": {
        "id": "fjAtL-aTb8Su"
      },
      "execution_count": null,
      "outputs": []
    }
  ]
}