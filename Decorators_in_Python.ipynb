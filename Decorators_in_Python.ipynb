{
  "nbformat": 4,
  "nbformat_minor": 0,
  "metadata": {
    "colab": {
      "provenance": [],
      "authorship_tag": "ABX9TyPxr+6Z/MMNm85T0mg+1aMz"
    },
    "kernelspec": {
      "name": "python3",
      "display_name": "Python 3"
    },
    "language_info": {
      "name": "python"
    }
  },
  "cells": [
    {
      "cell_type": "markdown",
      "source": [
        "A decorator in Python is a function that takes another function as input, enhances or modifies its behavior, and returns a new function without changing the original code.\n",
        "\n",
        "In simpler terms:\n",
        "\n",
        "It’s like \"wrapping\" a function to add extra functionality (e.g., logging, access control)."
      ],
      "metadata": {
        "id": "bCQu2XVzmSMg"
      }
    },
    {
      "cell_type": "code",
      "execution_count": 1,
      "metadata": {
        "colab": {
          "base_uri": "https://localhost:8080/"
        },
        "id": "_atr-CD1lsEm",
        "outputId": "039eff69-4d98-4dc6-f1a4-5ce92046e61c"
      },
      "outputs": [
        {
          "output_type": "stream",
          "name": "stdout",
          "text": [
            "before function\n",
            "I am function\n",
            "after function\n"
          ]
        }
      ],
      "source": [
        "def my_decorator(func):\n",
        "    def wrapper():\n",
        "        print(\"before function\")\n",
        "        func()\n",
        "        print(\"after function\")\n",
        "    return wrapper\n",
        "\n",
        "@my_decorator\n",
        "def function():\n",
        "    print(\"I am function\")\n",
        "\n",
        "function()"
      ]
    },
    {
      "cell_type": "markdown",
      "source": [
        "my_decorator – This is the decorator function.\n",
        "\n",
        "wrapper() – This inner function adds extra behavior before and after calling the actual function.\n",
        "\n",
        "@my_decorator – This syntax is a shortcut to apply the decorator."
      ],
      "metadata": {
        "id": "_kpRSBtbm8Sh"
      }
    },
    {
      "cell_type": "code",
      "source": [
        "def repeat_decorator(func):\n",
        "    def wrapper(*args, **kwargs):\n",
        "        print(\"Calling the function twice!\")\n",
        "        func(*args, **kwargs)\n",
        "        func(*args, **kwargs)\n",
        "    return wrapper\n",
        "\n",
        "@repeat_decorator\n",
        "def greet(name):\n",
        "    print(f\"Hello, {name}!\")\n",
        "\n",
        "greet(\"BRO\")\n"
      ],
      "metadata": {
        "colab": {
          "base_uri": "https://localhost:8080/"
        },
        "id": "w63rhnPRmTFN",
        "outputId": "9e366156-77c6-4ed1-cfd6-7825beb85e3f"
      },
      "execution_count": 6,
      "outputs": [
        {
          "output_type": "stream",
          "name": "stdout",
          "text": [
            "Calling the function twice!\n",
            "Hello, BRO!\n",
            "Hello, BRO!\n"
          ]
        }
      ]
    },
    {
      "cell_type": "code",
      "source": [
        "import time\n",
        "\n",
        "def timer_decorator(func):\n",
        "    def wrapper(*args, **kwargs):\n",
        "        start_time = time.time()\n",
        "        result = func(*args, **kwargs)  # Call the actual function\n",
        "        end_time = time.time()\n",
        "        print(f\"Execution Time: {end_time - start_time:.4f} seconds\")\n",
        "        return result\n",
        "    return wrapper\n",
        "\n",
        "@timer_decorator\n",
        "def slow_function():\n",
        "    time.sleep(2)\n",
        "    print(\"Finished slow task!\")\n",
        "\n",
        "slow_function()\n"
      ],
      "metadata": {
        "colab": {
          "base_uri": "https://localhost:8080/"
        },
        "id": "MmoBS1oTm_mA",
        "outputId": "80a87f0f-dfd4-4d45-ec43-9b07c75374cd"
      },
      "execution_count": 3,
      "outputs": [
        {
          "output_type": "stream",
          "name": "stdout",
          "text": [
            "Finished slow task!\n",
            "Execution Time: 2.0003 seconds\n"
          ]
        }
      ]
    },
    {
      "cell_type": "code",
      "source": [
        "def uppercase_decorator(func):\n",
        "    def wrapper():\n",
        "        result = func()\n",
        "        return result.upper()\n",
        "    return wrapper\n",
        "\n",
        "def exclamation_decorator(func):\n",
        "    def wrapper():\n",
        "        result = func()\n",
        "        return result + \"!!!\"\n",
        "    return wrapper\n",
        "\n",
        "@exclamation_decorator\n",
        "@uppercase_decorator\n",
        "def greet():\n",
        "    return \"hello,Dude\"\n",
        "\n",
        "print(greet())\n"
      ],
      "metadata": {
        "colab": {
          "base_uri": "https://localhost:8080/"
        },
        "id": "rdV_dHAknCjV",
        "outputId": "5117e209-b2e1-4719-81f0-43004639b106"
      },
      "execution_count": 5,
      "outputs": [
        {
          "output_type": "stream",
          "name": "stdout",
          "text": [
            "HELLO,DUDE!!!\n"
          ]
        }
      ]
    },
    {
      "cell_type": "markdown",
      "source": [
        "When to Use Decorators\n",
        "Logging: Automatically log function calls.\n",
        "\n",
        "Access Control: Restrict access to functions.\n",
        "\n",
        "Caching: Store results of expensive functions.\n",
        "\n",
        "Validation: Validate input arguments."
      ],
      "metadata": {
        "id": "olxwfQ3znZsN"
      }
    },
    {
      "cell_type": "code",
      "source": [],
      "metadata": {
        "id": "i2XQP6C_nKsP"
      },
      "execution_count": null,
      "outputs": []
    }
  ]
}