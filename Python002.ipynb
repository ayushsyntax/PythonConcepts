{
  "nbformat": 4,
  "nbformat_minor": 0,
  "metadata": {
    "colab": {
      "provenance": [],
      "authorship_tag": "ABX9TyNqlsC5VwC48H4BuDv4X5Ze"
    },
    "kernelspec": {
      "name": "python3",
      "display_name": "Python 3"
    },
    "language_info": {
      "name": "python"
    }
  },
  "cells": [
    {
      "cell_type": "code",
      "execution_count": 1,
      "metadata": {
        "colab": {
          "base_uri": "https://localhost:8080/"
        },
        "id": "HdhCS9ElHoMb",
        "outputId": "aa694c77-c47a-4830-81ef-f31cfd636214"
      },
      "outputs": [
        {
          "output_type": "stream",
          "name": "stdout",
          "text": [
            "3\n"
          ]
        }
      ],
      "source": [
        "def find_missing_number(nums):\n",
        "    n = len(nums) + 1\n",
        "    expected_sum = n * (n + 1) // 2\n",
        "    actual_sum = sum(nums)\n",
        "    return expected_sum - actual_sum\n",
        "\n",
        "# Example usage\n",
        "print(find_missing_number([1, 2, 4, 5]))  # Output: 3"
      ]
    },
    {
      "cell_type": "code",
      "source": [
        "def are_anagrams(s1, s2):\n",
        "    return sorted(s1) == sorted(s2)\n",
        "\n",
        "# Example usage\n",
        "print(are_anagrams(\"listen\", \"silent\"))  # Output: True\n",
        "print(are_anagrams(\"hello\", \"world\"))    # Output: False"
      ],
      "metadata": {
        "colab": {
          "base_uri": "https://localhost:8080/"
        },
        "id": "e0x9GLqmJ7sF",
        "outputId": "1ef8553a-af5d-4df4-f24a-f75fb7e0c92b"
      },
      "execution_count": 2,
      "outputs": [
        {
          "output_type": "stream",
          "name": "stdout",
          "text": [
            "True\n",
            "False\n"
          ]
        }
      ]
    },
    {
      "cell_type": "code",
      "source": [
        "a, b = 5, 10\n",
        "a, b = b, a\n",
        "print(a, b)  # Output: 10, 5"
      ],
      "metadata": {
        "colab": {
          "base_uri": "https://localhost:8080/"
        },
        "id": "zJZmaMkqKC9R",
        "outputId": "7b21af9b-b3b9-4901-b28c-4b0e5ff16543"
      },
      "execution_count": 3,
      "outputs": [
        {
          "output_type": "stream",
          "name": "stdout",
          "text": [
            "10 5\n"
          ]
        }
      ]
    },
    {
      "cell_type": "code",
      "source": [
        "def count_digits(n):\n",
        "    count = 0\n",
        "    n = abs(n)  # Handle negative numbers\n",
        "    while n > 0:\n",
        "        n //= 10\n",
        "        count += 1\n",
        "    return count if count > 0 else 1  # Handle 0 case\n",
        "\n",
        "# Example usage\n",
        "print(count_digits(12345))  # Output: 5\n",
        "print(count_digits(0))      # Output: 1"
      ],
      "metadata": {
        "colab": {
          "base_uri": "https://localhost:8080/"
        },
        "id": "fYsEFrzYKFeV",
        "outputId": "efaa7dd7-1306-406c-d99e-560b6de43c3d"
      },
      "execution_count": 6,
      "outputs": [
        {
          "output_type": "stream",
          "name": "stdout",
          "text": [
            "5\n",
            "1\n"
          ]
        }
      ]
    },
    {
      "cell_type": "code",
      "source": [],
      "metadata": {
        "id": "JznjPOK3Kr12"
      },
      "execution_count": null,
      "outputs": []
    }
  ]
}